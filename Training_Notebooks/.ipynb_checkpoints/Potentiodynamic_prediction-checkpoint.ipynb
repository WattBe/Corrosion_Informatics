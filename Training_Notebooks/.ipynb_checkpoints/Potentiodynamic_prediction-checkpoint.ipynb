{
 "cells": [
  {
   "cell_type": "code",
   "execution_count": 1,
   "metadata": {},
   "outputs": [],
   "source": [
    "import numpy as np\n",
    "import pandas as pd\n",
    "import matplotlib.pyplot as plt"
   ]
  },
  {
   "cell_type": "code",
   "execution_count": 3,
   "metadata": {},
   "outputs": [],
   "source": [
    "pd.set_option(\"display.max_rows\", None)"
   ]
  },
  {
   "cell_type": "code",
   "execution_count": 4,
   "metadata": {},
   "outputs": [],
   "source": [
    "df_base = pd.read_excel('../Data/PD/base.xlsx') \n",
    "df_ht = pd.read_excel('../Data/PD/ht.xlsx') \n",
    "df_sp = pd.read_excel('../Data/PD/sp.xlsx') \n",
    "df_htsp = pd.read_excel('../Data/PD/htsp.xlsx') "
   ]
  },
  {
   "cell_type": "code",
   "execution_count": 5,
   "metadata": {},
   "outputs": [],
   "source": [
    "df_base = df_base.iloc[1:]"
   ]
  },
  {
   "cell_type": "code",
   "execution_count": 6,
   "metadata": {},
   "outputs": [],
   "source": [
    "df_ht = df_ht.iloc[2:]"
   ]
  },
  {
   "cell_type": "code",
   "execution_count": 7,
   "metadata": {},
   "outputs": [],
   "source": [
    "df_sp = df_sp.iloc[2:]"
   ]
  },
  {
   "cell_type": "code",
   "execution_count": 8,
   "metadata": {},
   "outputs": [],
   "source": [
    "df_htsp = df_htsp.iloc[1:]"
   ]
  },
  {
   "cell_type": "code",
   "execution_count": 13,
   "metadata": {},
   "outputs": [],
   "source": [
    "df_ht = df_ht.rename(columns={\"Unnamed: 0\": \"XY\"})\n",
    "df_sp = df_sp.rename(columns={\"Unnamed: 0\": \"XY\"})"
   ]
  },
  {
   "cell_type": "code",
   "execution_count": 14,
   "metadata": {},
   "outputs": [],
   "source": [
    "convert_dict = {'Unnamed: 1': float, 'XY': float } \n",
    "df_base = df_base.astype(convert_dict) \n",
    "df_ht = df_ht.astype(convert_dict) \n",
    "df_sp = df_sp.astype(convert_dict)\n",
    "df_htsp = df_htsp.astype(convert_dict)"
   ]
  },
  {
   "cell_type": "code",
   "execution_count": 15,
   "metadata": {},
   "outputs": [
    {
     "data": {
      "text/plain": [
       "array([-4.85232368, -4.88873749, -4.91578131, ..., -5.26185391,\n",
       "       -5.26185391, -5.26161588])"
      ]
     },
     "execution_count": 15,
     "metadata": {},
     "output_type": "execute_result"
    }
   ],
   "source": [
    "np.log10(df_base['XY'].values)"
   ]
  },
  {
   "cell_type": "code",
   "execution_count": 12,
   "metadata": {},
   "outputs": [
    {
     "data": {
      "image/png": "[encoded data removed]",
      "text/plain": [
       "<Figure size 432x288 with 1 Axes>"
      ]
     },
     "metadata": {
      "needs_background": "light"
     },
     "output_type": "display_data"
    }
   ],
   "source": [
    "plt.plot(df_base['Unnamed: 1'].values,np.log10(df_base['XY'].values),'r',label = 'Experimental')\n",
    "plt.plot(df_ht['Unnamed: 1'].values,np.log10(df_ht['XY'].values),'b',label='HT')\n",
    "plt.plot(df_sp['Unnamed: 1'].values,np.log10(df_sp['XY'].values),'g',label='SP')\n",
    "plt.plot(df_htsp['Unnamed: 1'].values,np.log10(df_htsp['XY'].values),'g',label='HTSP')\n",
    "plt.legend()\n",
    "plt.title('Potentiodynamic Plot')\n",
    "plt.xlabel('Voltage')\n",
    "plt.ylabel('Log(Current)')\n",
    "plt.show()"
   ]
  },
  {
   "cell_type": "markdown",
   "metadata": {},
   "source": [
    "## Adding the postprocessing feature columns in the dataset"
   ]
  },
  {
   "cell_type": "code",
   "execution_count": 13,
   "metadata": {},
   "outputs": [],
   "source": [
    "df_base[\"T\"] = 0*np.ones((df_base.shape[0],1))\n",
    "df_base[\"t\"] = 0*np.ones((df_base.shape[0],1))\n",
    "df_base[\"incl\"] = 0*np.ones((df_base.shape[0],1))\n",
    "df_base[\"vel\"] = 0*np.ones((df_base.shape[0],1))"
   ]
  },
  {
   "cell_type": "code",
   "execution_count": 14,
   "metadata": {},
   "outputs": [],
   "source": [
    "df_ht[\"T\"] = 980*np.ones((df_ht.shape[0],1))\n",
    "df_ht[\"t\"] = 15*np.ones((df_ht.shape[0],1))\n",
    "df_ht[\"incl\"] = 0*np.ones((df_ht.shape[0],1))\n",
    "df_ht[\"vel\"] = 0*np.ones((df_ht.shape[0],1))"
   ]
  },
  {
   "cell_type": "code",
   "execution_count": 15,
   "metadata": {},
   "outputs": [],
   "source": [
    "df_sp[\"T\"] = 0*np.ones((df_sp.shape[0],1))\n",
    "df_sp[\"t\"] = 0*np.ones((df_sp.shape[0],1))\n",
    "df_sp[\"incl\"] = 60*np.ones((df_sp.shape[0],1))\n",
    "df_sp[\"vel\"] = 70*np.ones((df_sp.shape[0],1))"
   ]
  },
  {
   "cell_type": "code",
   "execution_count": 16,
   "metadata": {},
   "outputs": [],
   "source": [
    "df_htsp[\"T\"] = 980*np.ones((df_htsp.shape[0],1))\n",
    "df_htsp[\"t\"] = 15*np.ones((df_htsp.shape[0],1))\n",
    "df_htsp[\"incl\"] = 60*np.ones((df_htsp.shape[0],1))\n",
    "df_htsp[\"vel\"] = 70*np.ones((df_htsp.shape[0],1))"
   ]
  },
  {
   "cell_type": "code",
   "execution_count": 17,
   "metadata": {},
   "outputs": [
    {
     "data": {
      "text/html": [
       "<div>\n",
       "<style scoped>\n",
       "    .dataframe tbody tr th:only-of-type {\n",
       "        vertical-align: middle;\n",
       "    }\n",
       "\n",
       "    .dataframe tbody tr th {\n",
       "        vertical-align: top;\n",
       "    }\n",
       "\n",
       "    .dataframe thead th {\n",
       "        text-align: right;\n",
       "    }\n",
       "</style>\n",
       "<table border=\"1\" class=\"dataframe\">\n",
       "  <thead>\n",
       "    <tr style=\"text-align: right;\">\n",
       "      <th></th>\n",
       "      <th>XY</th>\n",
       "      <th>Unnamed: 1</th>\n",
       "      <th>T</th>\n",
       "      <th>t</th>\n",
       "      <th>incl</th>\n",
       "      <th>vel</th>\n",
       "    </tr>\n",
       "  </thead>\n",
       "  <tbody>\n",
       "    <tr>\n",
       "      <th>2</th>\n",
       "      <td>0.000013</td>\n",
       "      <td>-0.4740</td>\n",
       "      <td>0.0</td>\n",
       "      <td>0.0</td>\n",
       "      <td>60.0</td>\n",
       "      <td>70.0</td>\n",
       "    </tr>\n",
       "    <tr>\n",
       "      <th>3</th>\n",
       "      <td>0.000012</td>\n",
       "      <td>-0.4740</td>\n",
       "      <td>0.0</td>\n",
       "      <td>0.0</td>\n",
       "      <td>60.0</td>\n",
       "      <td>70.0</td>\n",
       "    </tr>\n",
       "    <tr>\n",
       "      <th>4</th>\n",
       "      <td>0.000011</td>\n",
       "      <td>-0.4739</td>\n",
       "      <td>0.0</td>\n",
       "      <td>0.0</td>\n",
       "      <td>60.0</td>\n",
       "      <td>70.0</td>\n",
       "    </tr>\n",
       "    <tr>\n",
       "      <th>5</th>\n",
       "      <td>0.000011</td>\n",
       "      <td>-0.4737</td>\n",
       "      <td>0.0</td>\n",
       "      <td>0.0</td>\n",
       "      <td>60.0</td>\n",
       "      <td>70.0</td>\n",
       "    </tr>\n",
       "    <tr>\n",
       "      <th>6</th>\n",
       "      <td>0.000010</td>\n",
       "      <td>-0.4735</td>\n",
       "      <td>0.0</td>\n",
       "      <td>0.0</td>\n",
       "      <td>60.0</td>\n",
       "      <td>70.0</td>\n",
       "    </tr>\n",
       "  </tbody>\n",
       "</table>\n",
       "</div>"
      ],
      "text/plain": [
       "         XY  Unnamed: 1    T    t  incl   vel\n",
       "2  0.000013     -0.4740  0.0  0.0  60.0  70.0\n",
       "3  0.000012     -0.4740  0.0  0.0  60.0  70.0\n",
       "4  0.000011     -0.4739  0.0  0.0  60.0  70.0\n",
       "5  0.000011     -0.4737  0.0  0.0  60.0  70.0\n",
       "6  0.000010     -0.4735  0.0  0.0  60.0  70.0"
      ]
     },
     "execution_count": 17,
     "metadata": {},
     "output_type": "execute_result"
    }
   ],
   "source": [
    "df_sp.head()"
   ]
  },
  {
   "cell_type": "code",
   "execution_count": 18,
   "metadata": {},
   "outputs": [],
   "source": [
    "result_df = pd.concat([df_base,df_ht,df_sp,df_htsp])"
   ]
  },
  {
   "cell_type": "code",
   "execution_count": 19,
   "metadata": {},
   "outputs": [
    {
     "data": {
      "text/plain": [
       "Index(['XY', 'Unnamed: 1', 'T', 't', 'incl', 'vel'], dtype='object')"
      ]
     },
     "execution_count": 19,
     "metadata": {},
     "output_type": "execute_result"
    }
   ],
   "source": [
    "result_df.columns"
   ]
  },
  {
   "cell_type": "code",
   "execution_count": 20,
   "metadata": {},
   "outputs": [],
   "source": [
    "print_df = result_df.rename(columns={'Unnamed: 1':\"V\",'XY':'I'})"
   ]
  },
  {
   "cell_type": "code",
   "execution_count": 21,
   "metadata": {},
   "outputs": [
    {
     "data": {
      "text/html": [
       "<div>\n",
       "<style scoped>\n",
       "    .dataframe tbody tr th:only-of-type {\n",
       "        vertical-align: middle;\n",
       "    }\n",
       "\n",
       "    .dataframe tbody tr th {\n",
       "        vertical-align: top;\n",
       "    }\n",
       "\n",
       "    .dataframe thead th {\n",
       "        text-align: right;\n",
       "    }\n",
       "</style>\n",
       "<table border=\"1\" class=\"dataframe\">\n",
       "  <thead>\n",
       "    <tr style=\"text-align: right;\">\n",
       "      <th></th>\n",
       "      <th>I</th>\n",
       "      <th>V</th>\n",
       "      <th>T</th>\n",
       "      <th>t</th>\n",
       "      <th>incl</th>\n",
       "      <th>vel</th>\n",
       "    </tr>\n",
       "  </thead>\n",
       "  <tbody>\n",
       "    <tr>\n",
       "      <th>1</th>\n",
       "      <td>0.000014</td>\n",
       "      <td>-0.4768</td>\n",
       "      <td>0.0</td>\n",
       "      <td>0.0</td>\n",
       "      <td>0.0</td>\n",
       "      <td>0.0</td>\n",
       "    </tr>\n",
       "    <tr>\n",
       "      <th>2</th>\n",
       "      <td>0.000013</td>\n",
       "      <td>-0.4769</td>\n",
       "      <td>0.0</td>\n",
       "      <td>0.0</td>\n",
       "      <td>0.0</td>\n",
       "      <td>0.0</td>\n",
       "    </tr>\n",
       "    <tr>\n",
       "      <th>3</th>\n",
       "      <td>0.000012</td>\n",
       "      <td>-0.4768</td>\n",
       "      <td>0.0</td>\n",
       "      <td>0.0</td>\n",
       "      <td>0.0</td>\n",
       "      <td>0.0</td>\n",
       "    </tr>\n",
       "    <tr>\n",
       "      <th>4</th>\n",
       "      <td>0.000012</td>\n",
       "      <td>-0.4766</td>\n",
       "      <td>0.0</td>\n",
       "      <td>0.0</td>\n",
       "      <td>0.0</td>\n",
       "      <td>0.0</td>\n",
       "    </tr>\n",
       "    <tr>\n",
       "      <th>5</th>\n",
       "      <td>0.000011</td>\n",
       "      <td>-0.4765</td>\n",
       "      <td>0.0</td>\n",
       "      <td>0.0</td>\n",
       "      <td>0.0</td>\n",
       "      <td>0.0</td>\n",
       "    </tr>\n",
       "  </tbody>\n",
       "</table>\n",
       "</div>"
      ],
      "text/plain": [
       "          I       V    T    t  incl  vel\n",
       "1  0.000014 -0.4768  0.0  0.0   0.0  0.0\n",
       "2  0.000013 -0.4769  0.0  0.0   0.0  0.0\n",
       "3  0.000012 -0.4768  0.0  0.0   0.0  0.0\n",
       "4  0.000012 -0.4766  0.0  0.0   0.0  0.0\n",
       "5  0.000011 -0.4765  0.0  0.0   0.0  0.0"
      ]
     },
     "execution_count": 21,
     "metadata": {},
     "output_type": "execute_result"
    }
   ],
   "source": [
    "print_df.head()"
   ]
  },
  {
   "cell_type": "code",
   "execution_count": 22,
   "metadata": {},
   "outputs": [],
   "source": [
    "result_df['Unnamed: 1'] = result_df['Unnamed: 1'].values.astype('float64')"
   ]
  },
  {
   "cell_type": "code",
   "execution_count": 23,
   "metadata": {},
   "outputs": [],
   "source": [
    "x, y = result_df.drop(['XY'], axis=1), np.log10(result_df['XY'].values.astype('float64'))"
   ]
  },
  {
   "cell_type": "code",
   "execution_count": 24,
   "metadata": {},
   "outputs": [
    {
     "data": {
      "text/plain": [
       "(28572, 6)"
      ]
     },
     "execution_count": 24,
     "metadata": {},
     "output_type": "execute_result"
    }
   ],
   "source": [
    "result_df.shape"
   ]
  },
  {
   "cell_type": "markdown",
   "metadata": {},
   "source": [
    "## Fitting a XgBoost model"
   ]
  },
  {
   "cell_type": "code",
   "execution_count": 25,
   "metadata": {},
   "outputs": [],
   "source": [
    "import xgboost as xgb"
   ]
  },
  {
   "cell_type": "code",
   "execution_count": 26,
   "metadata": {},
   "outputs": [
    {
     "name": "stdout",
     "output_type": "stream",
     "text": [
      "[18:35:46] WARNING: src/objective/regression_obj.cu:152: reg:linear is now deprecated in favor of reg:squarederror.\n",
      "0.9547523047925214\n",
      "0.07744914633438223\n",
      "0.12702480733940597\n"
     ]
    }
   ],
   "source": [
    "from sklearn.model_selection import train_test_split\n",
    "from sklearn.metrics import explained_variance_score, r2_score, mean_squared_error, mean_absolute_error\n",
    "from math import sqrt\n",
    "\n",
    "x_train, x_test, y_train, y_test = train_test_split(x, y, test_size=0.15, random_state=42)\n",
    "xgb_model = xgb.XGBRegressor(random_state = 0, max_depth = 3)\n",
    "xgb_model.fit(x_train,y_train)\n",
    "#R2\n",
    "#MAE\n",
    "#RMSE\n",
    "print(r2_score(y_test,xgb_model.predict(x_test)))\n",
    "print(mean_absolute_error(y_test,xgb_model.predict(x_test)))\n",
    "print(sqrt(mean_squared_error(y_test,xgb_model.predict(x_test))))"
   ]
  },
  {
   "cell_type": "code",
   "execution_count": 27,
   "metadata": {},
   "outputs": [
    {
     "name": "stdout",
     "output_type": "stream",
     "text": [
      "{'base_score': 0.5, 'booster': 'gbtree', 'colsample_bylevel': 1, 'colsample_bynode': 1, 'colsample_bytree': 1, 'gamma': 0, 'importance_type': 'gain', 'learning_rate': 0.1, 'max_delta_step': 0, 'max_depth': 3, 'min_child_weight': 1, 'missing': None, 'n_estimators': 100, 'nthread': 1, 'objective': 'reg:linear', 'reg_alpha': 0, 'reg_lambda': 1, 'scale_pos_weight': 1, 'seed': 0, 'subsample': 1, 'verbosity': 1}\n"
     ]
    }
   ],
   "source": [
    "print(xgb_model.get_xgb_params())"
   ]
  },
  {
   "cell_type": "code",
   "execution_count": 28,
   "metadata": {},
   "outputs": [],
   "source": [
    "convert_dict = {'Unnamed: 1': float, 'XY': float } \n",
    "df_base = df_base.astype(convert_dict) \n",
    "df_ht = df_ht.astype(convert_dict) \n",
    "df_sp = df_sp.astype(convert_dict)\n",
    "df_htsp = df_htsp.astype(convert_dict)"
   ]
  },
  {
   "cell_type": "code",
   "execution_count": 29,
   "metadata": {},
   "outputs": [
    {
     "data": {
      "text/html": [
       "<div>\n",
       "<style scoped>\n",
       "    .dataframe tbody tr th:only-of-type {\n",
       "        vertical-align: middle;\n",
       "    }\n",
       "\n",
       "    .dataframe tbody tr th {\n",
       "        vertical-align: top;\n",
       "    }\n",
       "\n",
       "    .dataframe thead th {\n",
       "        text-align: right;\n",
       "    }\n",
       "</style>\n",
       "<table border=\"1\" class=\"dataframe\">\n",
       "  <thead>\n",
       "    <tr style=\"text-align: right;\">\n",
       "      <th></th>\n",
       "      <th>XY</th>\n",
       "      <th>Unnamed: 1</th>\n",
       "      <th>T</th>\n",
       "      <th>t</th>\n",
       "      <th>incl</th>\n",
       "      <th>vel</th>\n",
       "    </tr>\n",
       "  </thead>\n",
       "  <tbody>\n",
       "    <tr>\n",
       "      <th>1</th>\n",
       "      <td>0.000014</td>\n",
       "      <td>-0.4768</td>\n",
       "      <td>0.0</td>\n",
       "      <td>0.0</td>\n",
       "      <td>0.0</td>\n",
       "      <td>0.0</td>\n",
       "    </tr>\n",
       "    <tr>\n",
       "      <th>2</th>\n",
       "      <td>0.000013</td>\n",
       "      <td>-0.4769</td>\n",
       "      <td>0.0</td>\n",
       "      <td>0.0</td>\n",
       "      <td>0.0</td>\n",
       "      <td>0.0</td>\n",
       "    </tr>\n",
       "    <tr>\n",
       "      <th>3</th>\n",
       "      <td>0.000012</td>\n",
       "      <td>-0.4768</td>\n",
       "      <td>0.0</td>\n",
       "      <td>0.0</td>\n",
       "      <td>0.0</td>\n",
       "      <td>0.0</td>\n",
       "    </tr>\n",
       "    <tr>\n",
       "      <th>4</th>\n",
       "      <td>0.000012</td>\n",
       "      <td>-0.4766</td>\n",
       "      <td>0.0</td>\n",
       "      <td>0.0</td>\n",
       "      <td>0.0</td>\n",
       "      <td>0.0</td>\n",
       "    </tr>\n",
       "    <tr>\n",
       "      <th>5</th>\n",
       "      <td>0.000011</td>\n",
       "      <td>-0.4765</td>\n",
       "      <td>0.0</td>\n",
       "      <td>0.0</td>\n",
       "      <td>0.0</td>\n",
       "      <td>0.0</td>\n",
       "    </tr>\n",
       "  </tbody>\n",
       "</table>\n",
       "</div>"
      ],
      "text/plain": [
       "         XY  Unnamed: 1    T    t  incl  vel\n",
       "1  0.000014     -0.4768  0.0  0.0   0.0  0.0\n",
       "2  0.000013     -0.4769  0.0  0.0   0.0  0.0\n",
       "3  0.000012     -0.4768  0.0  0.0   0.0  0.0\n",
       "4  0.000012     -0.4766  0.0  0.0   0.0  0.0\n",
       "5  0.000011     -0.4765  0.0  0.0   0.0  0.0"
      ]
     },
     "execution_count": 29,
     "metadata": {},
     "output_type": "execute_result"
    }
   ],
   "source": [
    "df_base.head()"
   ]
  },
  {
   "cell_type": "code",
   "execution_count": 69,
   "metadata": {},
   "outputs": [
    {
     "data": {
      "text/plain": [
       "Index(['Unnamed: 1', 'T', 't', 'incl', 'vel'], dtype='object')"
      ]
     },
     "execution_count": 69,
     "metadata": {},
     "output_type": "execute_result"
    }
   ],
   "source": [
    "x_train.columns"
   ]
  },
  {
   "cell_type": "code",
   "execution_count": 31,
   "metadata": {},
   "outputs": [
    {
     "data": {
      "image/png": "[encoded data removed]",
      "text/plain": [
       "<Figure size 432x288 with 1 Axes>"
      ]
     },
     "metadata": {
      "needs_background": "light"
     },
     "output_type": "display_data"
    }
   ],
   "source": [
    "plt.plot(df_base['Unnamed: 1'].values,np.log10(df_base['XY'].values),'r',label = 'Experimental')\n",
    "plt.plot(df_base['Unnamed: 1'].values,xgb_model.predict(df_base.drop(['XY'],axis=1)),'b',label='Predicted')\n",
    "plt.legend()\n",
    "#plt.title('Base')\n",
    "plt.ylabel('Log(I)    (in A)')\n",
    "plt.xlabel('Voltage    (in V)')\n",
    "plt.savefig('./Plots/PD/pd_xgb_ab.png',dpi = 1200,bbox_inches='tight')\n",
    "plt.show()"
   ]
  },
  {
   "cell_type": "code",
   "execution_count": 32,
   "metadata": {},
   "outputs": [
    {
     "data": {
      "image/png": "[encoded data removed]",
      "text/plain": [
       "<Figure size 432x288 with 1 Axes>"
      ]
     },
     "metadata": {
      "needs_background": "light"
     },
     "output_type": "display_data"
    }
   ],
   "source": [
    "plt.plot(df_ht['Unnamed: 1'].values,np.log10(df_ht['XY'].values),'r',label = 'Experimental')\n",
    "plt.plot(df_ht['Unnamed: 1'].values,xgb_model.predict(df_ht.drop(['XY'],axis=1)),'b',label='Predicted')\n",
    "plt.legend()\n",
    "#plt.title('HT')\n",
    "plt.ylabel('Log(I)    (in A)')\n",
    "plt.xlabel('Voltage    (in V)')\n",
    "plt.savefig('./Plots/PD/pd_xgb_ht.png',dpi = 1200,bbox_inches='tight')\n",
    "plt.show()"
   ]
  },
  {
   "cell_type": "code",
   "execution_count": 33,
   "metadata": {},
   "outputs": [
    {
     "data": {
      "image/png": "[encoded data removed]",
      "text/plain": [
       "<Figure size 432x288 with 1 Axes>"
      ]
     },
     "metadata": {
      "needs_background": "light"
     },
     "output_type": "display_data"
    }
   ],
   "source": [
    "plt.plot(df_sp['Unnamed: 1'].values,np.log10(df_sp['XY'].values),'r',label = 'Experimental')\n",
    "plt.plot(df_sp['Unnamed: 1'].values,xgb_model.predict(df_sp.drop(['XY'],axis=1)),'b',label='Predicted')\n",
    "plt.legend()\n",
    "#plt.title('SP')\n",
    "plt.ylabel('Log(I)    (in A)')\n",
    "plt.xlabel('Voltage    (in V)')\n",
    "plt.savefig('./Plots/PD/pd_xgb_sp.png',dpi = 1200,bbox_inches='tight')\n",
    "plt.show()"
   ]
  },
  {
   "cell_type": "code",
   "execution_count": 34,
   "metadata": {},
   "outputs": [
    {
     "data": {
      "image/png": "[encoded data removed]",
      "text/plain": [
       "<Figure size 432x288 with 1 Axes>"
      ]
     },
     "metadata": {
      "needs_background": "light"
     },
     "output_type": "display_data"
    }
   ],
   "source": [
    "plt.plot(df_htsp['Unnamed: 1'].values,np.log10(df_htsp['XY'].values),'r',label = 'Experimental')\n",
    "plt.plot(df_htsp['Unnamed: 1'].values,xgb_model.predict(df_htsp.drop(['XY'],axis=1)),'b',label='Predicted')\n",
    "plt.legend()\n",
    "#plt.title('HTSP')\n",
    "plt.ylabel('Log(I)    (in A)')\n",
    "plt.xlabel('Voltage    (in V)')\n",
    "plt.savefig('./Plots/PD/pd_xgb_htsp.png',dpi = 1200,bbox_inches='tight')\n",
    "plt.show()"
   ]
  },
  {
   "cell_type": "markdown",
   "metadata": {},
   "source": [
    "##  Fitting a Support Vector Regression"
   ]
  },
  {
   "cell_type": "code",
   "execution_count": 30,
   "metadata": {},
   "outputs": [
    {
     "name": "stdout",
     "output_type": "stream",
     "text": [
      "0.7086111503375965\n",
      "0.1918199582437021\n",
      "0.3223493346902566\n"
     ]
    }
   ],
   "source": [
    "from sklearn import svm\n",
    "svr_model = svm.SVR(kernel='rbf', C=100, gamma=0.1, epsilon=.1)\n",
    "svr_model.fit(x_train,y_train)\n",
    "#R2\n",
    "#MAE\n",
    "#RMSE\n",
    "print(r2_score(y_test,svr_model.predict(x_test)))\n",
    "print(mean_absolute_error(y_test,svr_model.predict(x_test)))\n",
    "print(sqrt(mean_squared_error(y_test,svr_model.predict(x_test))))"
   ]
  },
  {
   "cell_type": "code",
   "execution_count": 35,
   "metadata": {},
   "outputs": [
    {
     "data": {
      "text/plain": [
       "{'C': 100,\n",
       " 'cache_size': 200,\n",
       " 'coef0': 0.0,\n",
       " 'degree': 3,\n",
       " 'epsilon': 0.1,\n",
       " 'gamma': 0.1,\n",
       " 'kernel': 'rbf',\n",
       " 'max_iter': -1,\n",
       " 'shrinking': True,\n",
       " 'tol': 0.001,\n",
       " 'verbose': False}"
      ]
     },
     "execution_count": 35,
     "metadata": {},
     "output_type": "execute_result"
    }
   ],
   "source": [
    "svr_model.get_params()"
   ]
  },
  {
   "cell_type": "code",
   "execution_count": 36,
   "metadata": {},
   "outputs": [
    {
     "data": {
      "image/png": "[encoded data removed]",
      "text/plain": [
       "<Figure size 432x288 with 1 Axes>"
      ]
     },
     "metadata": {
      "needs_background": "light"
     },
     "output_type": "display_data"
    }
   ],
   "source": [
    "plt.plot(df_base['Unnamed: 1'].values,np.log10(df_base['XY'].values),'r',label = 'Experimental')\n",
    "plt.plot(df_base['Unnamed: 1'].values,svr_model.predict(df_base.drop(['XY'],axis=1)),'b',label='Predicted')\n",
    "plt.legend()\n",
    "#plt.title('Base')\n",
    "plt.ylabel('Log(I)    (in A)')\n",
    "plt.xlabel('Voltage    (in V)')\n",
    "plt.savefig('./Plots/PD/pd_svm_ab.png',dpi = 1200,bbox_inches='tight')\n",
    "plt.show()"
   ]
  },
  {
   "cell_type": "code",
   "execution_count": 37,
   "metadata": {},
   "outputs": [
    {
     "data": {
      "image/png": "[encoded data removed]",
      "text/plain": [
       "<Figure size 432x288 with 1 Axes>"
      ]
     },
     "metadata": {
      "needs_background": "light"
     },
     "output_type": "display_data"
    }
   ],
   "source": [
    "plt.plot(df_ht['Unnamed: 1'].values,np.log10(df_ht['XY'].values),'r',label = 'Experimental')\n",
    "plt.plot(df_ht['Unnamed: 1'].values,svr_model.predict(df_ht.drop(['XY'],axis=1)),'b',label='Predicted')\n",
    "plt.legend()\n",
    "#plt.title('HT')\n",
    "plt.ylabel('Log(I)    (in A)')\n",
    "plt.xlabel('Voltage    (in V)')\n",
    "plt.savefig('./Plots/PD/pd_svm_ht.png',dpi = 1200,bbox_inches='tight')\n",
    "plt.show()"
   ]
  },
  {
   "cell_type": "code",
   "execution_count": 38,
   "metadata": {},
   "outputs": [
    {
     "data": {
      "image/png": "[encoded data removed]",
      "text/plain": [
       "<Figure size 432x288 with 1 Axes>"
      ]
     },
     "metadata": {
      "needs_background": "light"
     },
     "output_type": "display_data"
    }
   ],
   "source": [
    "plt.plot(df_sp['Unnamed: 1'].values,np.log10(df_sp['XY'].values),'r',label = 'Experimental')\n",
    "plt.plot(df_sp['Unnamed: 1'].values,svr_model.predict(df_sp.drop(['XY'],axis=1)),'b',label='Predicted')\n",
    "plt.legend()\n",
    "#plt.title('SP')\n",
    "plt.ylabel('Log(I)    (in A)')\n",
    "plt.xlabel('Voltage    (in V)')\n",
    "plt.savefig('./Plots/PD/pd_svm_sp.png',dpi = 1200,bbox_inches='tight')\n",
    "plt.show()"
   ]
  },
  {
   "cell_type": "code",
   "execution_count": 39,
   "metadata": {},
   "outputs": [
    {
     "data": {
      "image/png": "[encoded data removed]",
      "text/plain": [
       "<Figure size 432x288 with 1 Axes>"
      ]
     },
     "metadata": {
      "needs_background": "light"
     },
     "output_type": "display_data"
    }
   ],
   "source": [
    "plt.plot(df_htsp['Unnamed: 1'].values,np.log10(df_htsp['XY'].values),'r',label = 'Experimental')\n",
    "plt.plot(df_htsp['Unnamed: 1'].values,svr_model.predict(df_htsp.drop(['XY'],axis=1)),'b',label='Predicted')\n",
    "plt.legend()\n",
    "#plt.title('HTSP')\n",
    "plt.ylabel('Log(I)    (in A)')\n",
    "plt.xlabel('Voltage    (in V)')\n",
    "plt.savefig('./Plots/PD/pd_svm_htsp.png',dpi = 1200,bbox_inches='tight')\n",
    "plt.show()"
   ]
  },
  {
   "cell_type": "markdown",
   "metadata": {},
   "source": [
    "## Fitting a Decision Tree"
   ]
  },
  {
   "cell_type": "code",
   "execution_count": 40,
   "metadata": {},
   "outputs": [
    {
     "name": "stdout",
     "output_type": "stream",
     "text": [
      "0.9308724425867663\n",
      "0.07442280700129687\n",
      "0.15700588075865055\n"
     ]
    }
   ],
   "source": [
    "from sklearn import tree\n",
    "dt_model = tree.DecisionTreeRegressor(max_depth=6)\n",
    "dt_model.fit(x_train,y_train)\n",
    "#R2\n",
    "#MAE\n",
    "#RMSE\n",
    "print(r2_score(y_test,dt_model.predict(x_test)))\n",
    "print(mean_absolute_error(y_test,dt_model.predict(x_test)))\n",
    "print(sqrt(mean_squared_error(y_test,dt_model.predict(x_test))))"
   ]
  },
  {
   "cell_type": "code",
   "execution_count": 41,
   "metadata": {},
   "outputs": [
    {
     "data": {
      "text/plain": [
       "{'ccp_alpha': 0.0,\n",
       " 'criterion': 'mse',\n",
       " 'max_depth': 6,\n",
       " 'max_features': None,\n",
       " 'max_leaf_nodes': None,\n",
       " 'min_impurity_decrease': 0.0,\n",
       " 'min_impurity_split': None,\n",
       " 'min_samples_leaf': 1,\n",
       " 'min_samples_split': 2,\n",
       " 'min_weight_fraction_leaf': 0.0,\n",
       " 'presort': 'deprecated',\n",
       " 'random_state': None,\n",
       " 'splitter': 'best'}"
      ]
     },
     "execution_count": 41,
     "metadata": {},
     "output_type": "execute_result"
    }
   ],
   "source": [
    "dt_model.get_params()"
   ]
  },
  {
   "cell_type": "code",
   "execution_count": 42,
   "metadata": {},
   "outputs": [
    {
     "data": {
      "image/png": "[encoded data removed]",
      "text/plain": [
       "<Figure size 432x288 with 1 Axes>"
      ]
     },
     "metadata": {
      "needs_background": "light"
     },
     "output_type": "display_data"
    }
   ],
   "source": [
    "plt.plot(df_base['Unnamed: 1'].values,np.log10(df_base['XY'].values),'r',label = 'Experimental')\n",
    "plt.plot(df_base['Unnamed: 1'].values,dt_model.predict(df_base.drop(['XY'],axis=1)),'b',label='Predicted')\n",
    "plt.legend()\n",
    "#plt.title('Base')\n",
    "plt.ylabel('Log(I)    (in A)')\n",
    "plt.xlabel('Voltage    (in V)')\n",
    "plt.savefig('./Plots/PD/pd_dt_ab.png',dpi = 1200,bbox_inches='tight')\n",
    "plt.show()"
   ]
  },
  {
   "cell_type": "code",
   "execution_count": 43,
   "metadata": {},
   "outputs": [
    {
     "data": {
      "image/png": "[encoded data removed]",
      "text/plain": [
       "<Figure size 432x288 with 1 Axes>"
      ]
     },
     "metadata": {
      "needs_background": "light"
     },
     "output_type": "display_data"
    }
   ],
   "source": [
    "plt.plot(df_ht['Unnamed: 1'].values,np.log10(df_ht['XY'].values),'r',label = 'Experimental')\n",
    "plt.plot(df_ht['Unnamed: 1'].values,dt_model.predict(df_ht.drop(['XY'],axis=1)),'b',label='Predicted')\n",
    "plt.legend()\n",
    "#plt.title('HT')\n",
    "plt.ylabel('Log(I)    (in A)')\n",
    "plt.xlabel('Voltage    (in V)')\n",
    "plt.savefig('./Plots/PD/pd_dt_ht.png',dpi = 1200,bbox_inches='tight')\n",
    "plt.show()"
   ]
  },
  {
   "cell_type": "code",
   "execution_count": 44,
   "metadata": {},
   "outputs": [
    {
     "data": {
      "image/png": "[encoded data removed]",
      "text/plain": [
       "<Figure size 432x288 with 1 Axes>"
      ]
     },
     "metadata": {
      "needs_background": "light"
     },
     "output_type": "display_data"
    }
   ],
   "source": [
    "plt.plot(df_sp['Unnamed: 1'].values,np.log10(df_sp['XY'].values),'r',label = 'Experimental')\n",
    "plt.plot(df_sp['Unnamed: 1'].values,dt_model.predict(df_sp.drop(['XY'],axis=1)),'b',label='Predicted')\n",
    "plt.legend()\n",
    "#plt.title('SP')\n",
    "plt.ylabel('Log(I)    (in A)')\n",
    "plt.xlabel('Voltage    (in V)')\n",
    "plt.savefig('./Plots/PD/pd_dt_sp.png',dpi = 1200,bbox_inches='tight')\n",
    "plt.show()"
   ]
  },
  {
   "cell_type": "code",
   "execution_count": 45,
   "metadata": {},
   "outputs": [
    {
     "data": {
      "image/png": "[encoded data removed]",
      "text/plain": [
       "<Figure size 432x288 with 1 Axes>"
      ]
     },
     "metadata": {
      "needs_background": "light"
     },
     "output_type": "display_data"
    }
   ],
   "source": [
    "plt.plot(df_htsp['Unnamed: 1'].values,np.log10(df_htsp['XY'].values),'r',label = 'Experimental')\n",
    "plt.plot(df_htsp['Unnamed: 1'].values,dt_model.predict(df_htsp.drop(['XY'],axis=1)),'b',label='Predicted')\n",
    "plt.legend()\n",
    "#plt.title('HTSP')\n",
    "plt.ylabel('Log(I)    (in A)')\n",
    "plt.xlabel('Voltage    (in V)')\n",
    "plt.savefig('./Plots/PD/pd_dt_htsp.png',dpi = 1200,bbox_inches='tight')\n",
    "plt.show()"
   ]
  },
  {
   "cell_type": "markdown",
   "metadata": {},
   "source": [
    "## Fitting a Polynomial Regression"
   ]
  },
  {
   "cell_type": "code",
   "execution_count": 46,
   "metadata": {
    "scrolled": true
   },
   "outputs": [
    {
     "name": "stdout",
     "output_type": "stream",
     "text": [
      "0.8358156099606239\n",
      "0.16078257851690736\n",
      "0.2419670588736717\n"
     ]
    }
   ],
   "source": [
    "from sklearn.linear_model import LinearRegression\n",
    "from sklearn.preprocessing import PolynomialFeatures\n",
    "from sklearn.pipeline import make_pipeline\n",
    "\n",
    "linear_model = LinearRegression()\n",
    "degree=4\n",
    "poly_model =make_pipeline(PolynomialFeatures(degree),LinearRegression())\n",
    "\n",
    "poly_model.fit(x_train,y_train)\n",
    "#R2\n",
    "#MAE\n",
    "#RMSE\n",
    "print(r2_score(y_test,poly_model.predict(x_test)))\n",
    "print(mean_absolute_error(y_test,poly_model.predict(x_test)))\n",
    "print(sqrt(mean_squared_error(y_test,poly_model.predict(x_test))))"
   ]
  },
  {
   "cell_type": "code",
   "execution_count": 47,
   "metadata": {},
   "outputs": [
    {
     "data": {
      "text/plain": [
       "{'memory': None,\n",
       " 'steps': [('polynomialfeatures',\n",
       "   PolynomialFeatures(degree=4, include_bias=True, interaction_only=False,\n",
       "                      order='C')),\n",
       "  ('linearregression',\n",
       "   LinearRegression(copy_X=True, fit_intercept=True, n_jobs=None, normalize=False))],\n",
       " 'verbose': False,\n",
       " 'polynomialfeatures': PolynomialFeatures(degree=4, include_bias=True, interaction_only=False,\n",
       "                    order='C'),\n",
       " 'linearregression': LinearRegression(copy_X=True, fit_intercept=True, n_jobs=None, normalize=False),\n",
       " 'polynomialfeatures__degree': 4,\n",
       " 'polynomialfeatures__include_bias': True,\n",
       " 'polynomialfeatures__interaction_only': False,\n",
       " 'polynomialfeatures__order': 'C',\n",
       " 'linearregression__copy_X': True,\n",
       " 'linearregression__fit_intercept': True,\n",
       " 'linearregression__n_jobs': None,\n",
       " 'linearregression__normalize': False}"
      ]
     },
     "execution_count": 47,
     "metadata": {},
     "output_type": "execute_result"
    }
   ],
   "source": [
    "poly_model.get_params()"
   ]
  },
  {
   "cell_type": "code",
   "execution_count": 48,
   "metadata": {},
   "outputs": [
    {
     "data": {
      "image/png": "[encoded data removed]",
      "text/plain": [
       "<Figure size 432x288 with 1 Axes>"
      ]
     },
     "metadata": {
      "needs_background": "light"
     },
     "output_type": "display_data"
    }
   ],
   "source": [
    "plt.plot(df_base['Unnamed: 1'].values,np.log10(df_base['XY'].values),'r',label = 'Experimental')\n",
    "plt.plot(df_base['Unnamed: 1'].values,poly_model.predict(df_base.drop(['XY'],axis=1)),'b',label='Predicted')\n",
    "plt.legend()\n",
    "#plt.title('Base')\n",
    "plt.ylabel('Log(I)    (in A)')\n",
    "plt.xlabel('Voltage    (in V)')\n",
    "plt.savefig('./Plots/PD/pd_poly_ab.png',dpi = 1200,bbox_inches='tight')\n",
    "plt.show()"
   ]
  },
  {
   "cell_type": "code",
   "execution_count": 49,
   "metadata": {},
   "outputs": [
    {
     "data": {
      "image/png": "[encoded data removed]",
      "text/plain": [
       "<Figure size 432x288 with 1 Axes>"
      ]
     },
     "metadata": {
      "needs_background": "light"
     },
     "output_type": "display_data"
    }
   ],
   "source": [
    "plt.plot(df_ht['Unnamed: 1'].values,np.log10(df_ht['XY'].values),'r',label = 'Experimental')\n",
    "plt.plot(df_ht['Unnamed: 1'].values,poly_model.predict(df_ht.drop(['XY'],axis=1)),'b',label='Predicted')\n",
    "plt.legend()\n",
    "#plt.title('HT')\n",
    "plt.ylabel('Log(I)    (in A)')\n",
    "plt.xlabel('Voltage    (in V)')\n",
    "plt.savefig('./Plots/PD/pd_poly_ht.png',dpi = 1200,bbox_inches='tight')\n",
    "plt.show()"
   ]
  },
  {
   "cell_type": "code",
   "execution_count": 50,
   "metadata": {},
   "outputs": [
    {
     "data": {
      "image/png": "[encoded data removed]",
      "text/plain": [
       "<Figure size 432x288 with 1 Axes>"
      ]
     },
     "metadata": {
      "needs_background": "light"
     },
     "output_type": "display_data"
    }
   ],
   "source": [
    "plt.plot(df_sp['Unnamed: 1'].values,np.log10(df_sp['XY'].values),'r',label = 'Experimental')\n",
    "plt.plot(df_sp['Unnamed: 1'].values,poly_model.predict(df_sp.drop(['XY'],axis=1)),'b',label='Predicted')\n",
    "plt.legend()\n",
    "#plt.title('SP')\n",
    "plt.ylabel('Log(I)    (in A)')\n",
    "plt.xlabel('Voltage    (in V)')\n",
    "plt.savefig('./Plots/PD/pd_poly_sp.png',dpi = 1200,bbox_inches='tight')\n",
    "plt.show()"
   ]
  },
  {
   "cell_type": "code",
   "execution_count": 51,
   "metadata": {},
   "outputs": [
    {
     "data": {
      "image/png": "[encoded data removed]",
      "text/plain": [
       "<Figure size 432x288 with 1 Axes>"
      ]
     },
     "metadata": {
      "needs_background": "light"
     },
     "output_type": "display_data"
    }
   ],
   "source": [
    "plt.plot(df_htsp['Unnamed: 1'].values,np.log10(df_htsp['XY'].values),'r',label = 'Experimental')\n",
    "plt.plot(df_htsp['Unnamed: 1'].values,poly_model.predict(df_htsp.drop(['XY'],axis=1)),'b',label='Predicted')\n",
    "plt.legend()\n",
    "#plt.title('HTSP')\n",
    "plt.ylabel('Log(I)    (in A)')\n",
    "plt.xlabel('Voltage    (in V)')\n",
    "plt.savefig('./Plots/PD/pd_poly_htsp.png',dpi = 1200,bbox_inches='tight')\n",
    "plt.show()"
   ]
  },
  {
   "cell_type": "markdown",
   "metadata": {},
   "source": [
    "## XGBoost Feature Importance"
   ]
  },
  {
   "cell_type": "code",
   "execution_count": 52,
   "metadata": {},
   "outputs": [
    {
     "data": {
      "image/png": "[encoded data removed]",
      "text/plain": [
       "<Figure size 432x288 with 1 Axes>"
      ]
     },
     "metadata": {
      "needs_background": "light"
     },
     "output_type": "display_data"
    }
   ],
   "source": [
    "from xgboost import plot_importance\n",
    "#reduction in mse\n",
    "plot_importance(xgb_model)\n",
    "plt.show()"
   ]
  },
  {
   "cell_type": "markdown",
   "metadata": {},
   "source": [
    "Among the models considered, XGBoost performs the best. So we will do hyperparameter optimisation for XgBoost using Optuna\n",
    "# Optuna For Hyperparameter Optimisation"
   ]
  },
  {
   "cell_type": "code",
   "execution_count": 25,
   "metadata": {},
   "outputs": [],
   "source": [
    "import optuna"
   ]
  },
  {
   "cell_type": "code",
   "execution_count": 26,
   "metadata": {},
   "outputs": [],
   "source": [
    "def xgb_objective(trial):\n",
    "    train_x, test_x, train_y, test_y = train_test_split(x, y, test_size=0.15)\n",
    "    param = {\n",
    "        'silent': 1,\n",
    "        'random_state': 0,\n",
    "        'objective': 'reg:linear',\n",
    "        'booster': trial.suggest_categorical('booster', ['gbtree', 'gblinear', 'dart']),\n",
    "        'reg_lambda': trial.suggest_loguniform('reg_lambda', 1e-4, 1.0),\n",
    "        'reg_alpha': trial.suggest_loguniform('reg_alpha', 1e-4, 1.0),\n",
    "        'n_estimators': trial.suggest_int('n_estimators',10,100),\n",
    "        'learning_rate': trial.suggest_loguniform('learning_rste', 1e-4, 0.1),\n",
    "        'max_depth':trial.suggest_int('max_depth',3,6)\n",
    "    }\n",
    "    bst = xgb.XGBRegressor(**param)\n",
    "    bst.fit(train_x,train_y)\n",
    "    return sqrt(mean_squared_error(test_y,bst.predict(test_x)))"
   ]
  },
  {
   "cell_type": "code",
   "execution_count": 27,
   "metadata": {},
   "outputs": [
    {
     "name": "stderr",
     "output_type": "stream",
     "text": [
      "\u001b[32m[I 2021-04-02 10:10:37,791]\u001b[0m A new study created in memory with name: no-name-dcc9df7f-033d-4d70-8138-8ca046069d2b\u001b[0m\n",
      "\u001b[32m[I 2021-04-02 10:10:40,501]\u001b[0m Trial 0 finished with value: 4.000812566646497 and parameters: {'booster': 'dart', 'reg_lambda': 0.15352246941973485, 'reg_alpha': 0.000541675458324746, 'n_estimators': 81, 'learning_rste': 0.006251373574521752, 'max_depth': 5}. Best is trial 0 with value: 4.000812566646497.\u001b[0m\n",
      "\u001b[32m[I 2021-04-02 10:10:40,912]\u001b[0m Trial 1 finished with value: 5.048813954141867 and parameters: {'booster': 'gblinear', 'reg_lambda': 0.0004207053950287938, 'reg_alpha': 0.0001707396743152812, 'n_estimators': 97, 'learning_rste': 0.0010025956902289571, 'max_depth': 6}. Best is trial 0 with value: 4.000812566646497.\u001b[0m\n",
      "\u001b[32m[I 2021-04-02 10:10:41,809]\u001b[0m Trial 2 finished with value: 6.5358239302160355 and parameters: {'booster': 'dart', 'reg_lambda': 0.00012087541473056971, 'reg_alpha': 0.7579479953348001, 'n_estimators': 39, 'learning_rste': 0.0004335281794951569, 'max_depth': 6}. Best is trial 0 with value: 4.000812566646497.\u001b[0m\n",
      "\u001b[32m[I 2021-04-02 10:10:43,258]\u001b[0m Trial 3 finished with value: 6.185057482273835 and parameters: {'booster': 'gbtree', 'reg_lambda': 0.02950706670790533, 'reg_alpha': 0.02796485951606245, 'n_estimators': 98, 'learning_rste': 0.0007476312062252305, 'max_depth': 5}. Best is trial 0 with value: 4.000812566646497.\u001b[0m\n",
      "\u001b[32m[I 2021-04-02 10:10:45,757]\u001b[0m Trial 4 finished with value: 6.360813678020396 and parameters: {'booster': 'dart', 'reg_lambda': 0.0003613894271216529, 'reg_alpha': 0.0014742753159914669, 'n_estimators': 89, 'learning_rste': 0.0004992453416923984, 'max_depth': 4}. Best is trial 0 with value: 4.000812566646497.\u001b[0m\n",
      "\u001b[32m[I 2021-04-02 10:10:47,075]\u001b[0m Trial 5 finished with value: 5.534666230312126 and parameters: {'booster': 'dart', 'reg_lambda': 0.029753909473493843, 'reg_alpha': 0.003387255565852149, 'n_estimators': 73, 'learning_rste': 0.0025135566617708314, 'max_depth': 3}. Best is trial 0 with value: 4.000812566646497.\u001b[0m\n",
      "\u001b[32m[I 2021-04-02 10:10:47,773]\u001b[0m Trial 6 finished with value: 0.9467257734816549 and parameters: {'booster': 'dart', 'reg_lambda': 0.05262961031076742, 'reg_alpha': 0.006338653441536257, 'n_estimators': 27, 'learning_rste': 0.07025166339242159, 'max_depth': 6}. Best is trial 6 with value: 0.9467257734816549.\u001b[0m\n",
      "\u001b[32m[I 2021-04-02 10:10:48,051]\u001b[0m Trial 7 finished with value: 6.072047667341943 and parameters: {'booster': 'gblinear', 'reg_lambda': 0.17123375973163968, 'reg_alpha': 0.001653693718282443, 'n_estimators': 62, 'learning_rste': 0.0004928122297695504, 'max_depth': 6}. Best is trial 6 with value: 0.9467257734816549.\u001b[0m\n",
      "\u001b[32m[I 2021-04-02 10:10:48,311]\u001b[0m Trial 8 finished with value: 6.646257145628596 and parameters: {'booster': 'dart', 'reg_lambda': 0.054082165807184904, 'reg_alpha': 0.0275414392133203, 'n_estimators': 17, 'learning_rste': 0.00012681352169084607, 'max_depth': 4}. Best is trial 6 with value: 0.9467257734816549.\u001b[0m\n",
      "\u001b[32m[I 2021-04-02 10:10:48,477]\u001b[0m Trial 9 finished with value: 6.519010236919929 and parameters: {'booster': 'gbtree', 'reg_lambda': 0.0010842262717330165, 'reg_alpha': 0.04467752817973906, 'n_estimators': 11, 'learning_rste': 0.0018856783874794994, 'max_depth': 4}. Best is trial 6 with value: 0.9467257734816549.\u001b[0m\n",
      "\u001b[32m[I 2021-04-02 10:10:48,641]\u001b[0m Trial 10 finished with value: 1.3430570472714984 and parameters: {'booster': 'gblinear', 'reg_lambda': 0.8773051777432617, 'reg_alpha': 0.36254937642833174, 'n_estimators': 34, 'learning_rste': 0.08946769895739001, 'max_depth': 5}. Best is trial 6 with value: 0.9467257734816549.\u001b[0m\n",
      "\u001b[32m[I 2021-04-02 10:10:48,812]\u001b[0m Trial 11 finished with value: 1.3094027278292233 and parameters: {'booster': 'gblinear', 'reg_lambda': 0.9658848165074733, 'reg_alpha': 0.5301624317871871, 'n_estimators': 34, 'learning_rste': 0.09209287774740992, 'max_depth': 5}. Best is trial 6 with value: 0.9467257734816549.\u001b[0m\n",
      "\u001b[32m[I 2021-04-02 10:10:48,978]\u001b[0m Trial 12 finished with value: 1.5722651088141457 and parameters: {'booster': 'gblinear', 'reg_lambda': 0.7086720584387374, 'reg_alpha': 0.1512359995557746, 'n_estimators': 33, 'learning_rste': 0.07529157984813298, 'max_depth': 6}. Best is trial 6 with value: 0.9467257734816549.\u001b[0m\n",
      "\u001b[32m[I 2021-04-02 10:10:49,207]\u001b[0m Trial 13 finished with value: 2.406189829340695 and parameters: {'booster': 'gblinear', 'reg_lambda': 0.004446942933838136, 'reg_alpha': 0.008471174978164417, 'n_estimators': 47, 'learning_rste': 0.018483744845159713, 'max_depth': 5}. Best is trial 6 with value: 0.9467257734816549.\u001b[0m\n",
      "\u001b[32m[I 2021-04-02 10:10:49,326]\u001b[0m Trial 14 finished with value: 2.537260740879258 and parameters: {'booster': 'gblinear', 'reg_lambda': 0.30676965894461516, 'reg_alpha': 0.11469849954973828, 'n_estimators': 22, 'learning_rste': 0.03157288172603374, 'max_depth': 6}. Best is trial 6 with value: 0.9467257734816549.\u001b[0m\n",
      "\u001b[32m[I 2021-04-02 10:10:49,885]\u001b[0m Trial 15 finished with value: 2.7823483259928996 and parameters: {'booster': 'gbtree', 'reg_lambda': 0.005483159069997342, 'reg_alpha': 0.01131282654162483, 'n_estimators': 24, 'learning_rste': 0.03564849857978423, 'max_depth': 5}. Best is trial 6 with value: 0.9467257734816549.\u001b[0m\n",
      "\u001b[32m[I 2021-04-02 10:10:50,670]\u001b[0m Trial 16 finished with value: 4.527156854896927 and parameters: {'booster': 'dart', 'reg_lambda': 0.9182571408154488, 'reg_alpha': 0.006308719007728853, 'n_estimators': 47, 'learning_rste': 0.00815518655137768, 'max_depth': 3}. Best is trial 6 with value: 0.9467257734816549.\u001b[0m\n",
      "\u001b[32m[I 2021-04-02 10:10:52,475]\u001b[0m Trial 17 finished with value: 0.13903376802322778 and parameters: {'booster': 'dart', 'reg_lambda': 0.06817179886221593, 'reg_alpha': 0.00010446251525877409, 'n_estimators': 57, 'learning_rste': 0.07315451983828174, 'max_depth': 5}. Best is trial 17 with value: 0.13903376802322778.\u001b[0m\n",
      "\u001b[32m[I 2021-04-02 10:10:54,765]\u001b[0m Trial 18 finished with value: 2.7611647498423046 and parameters: {'booster': 'dart', 'reg_lambda': 0.06047926594615573, 'reg_alpha': 0.00018335053461176207, 'n_estimators': 62, 'learning_rste': 0.014074840077919015, 'max_depth': 6}. Best is trial 17 with value: 0.13903376802322778.\u001b[0m\n",
      "\u001b[32m[I 2021-04-02 10:10:56,075]\u001b[0m Trial 19 finished with value: 0.5173077094347253 and parameters: {'booster': 'dart', 'reg_lambda': 0.014467053264901546, 'reg_alpha': 0.0004531292986525192, 'n_estimators': 57, 'learning_rste': 0.04440695804797892, 'max_depth': 4}. Best is trial 17 with value: 0.13903376802322778.\u001b[0m\n",
      "\u001b[32m[I 2021-04-02 10:10:58,069]\u001b[0m Trial 20 finished with value: 0.3548174582299849 and parameters: {'booster': 'dart', 'reg_lambda': 0.010980559689899532, 'reg_alpha': 0.00010627962696740669, 'n_estimators': 69, 'learning_rste': 0.04286054501063888, 'max_depth': 4}. Best is trial 17 with value: 0.13903376802322778.\u001b[0m\n",
      "\u001b[32m[I 2021-04-02 10:10:59,843]\u001b[0m Trial 21 finished with value: 0.4467677172191179 and parameters: {'booster': 'dart', 'reg_lambda': 0.008850167060989985, 'reg_alpha': 0.0001006635469546757, 'n_estimators': 68, 'learning_rste': 0.039764294212206994, 'max_depth': 4}. Best is trial 17 with value: 0.13903376802322778.\u001b[0m\n",
      "\u001b[32m[I 2021-04-02 10:11:01,777]\u001b[0m Trial 22 finished with value: 1.66037763509869 and parameters: {'booster': 'dart', 'reg_lambda': 0.004537569488970896, 'reg_alpha': 0.00010485153458060408, 'n_estimators': 72, 'learning_rste': 0.01914674057698621, 'max_depth': 4}. Best is trial 17 with value: 0.13903376802322778.\u001b[0m\n",
      "\u001b[32m[I 2021-04-02 10:11:03,482]\u001b[0m Trial 23 finished with value: 0.2532208011269409 and parameters: {'booster': 'dart', 'reg_lambda': 0.0018086655942726926, 'reg_alpha': 0.00010022222936808079, 'n_estimators': 76, 'learning_rste': 0.045839991264789985, 'max_depth': 3}. Best is trial 17 with value: 0.13903376802322778.\u001b[0m\n",
      "\u001b[32m[I 2021-04-02 10:11:05,166]\u001b[0m Trial 24 finished with value: 3.957416940172648 and parameters: {'booster': 'dart', 'reg_lambda': 0.0016621891126694943, 'reg_alpha': 0.00039609965334950944, 'n_estimators': 81, 'learning_rste': 0.006402837892621652, 'max_depth': 3}. Best is trial 17 with value: 0.13903376802322778.\u001b[0m\n",
      "\u001b[32m[I 2021-04-02 10:11:06,070]\u001b[0m Trial 25 finished with value: 0.42865901620270086 and parameters: {'booster': 'dart', 'reg_lambda': 0.0019176182783945208, 'reg_alpha': 0.000271254734020293, 'n_estimators': 50, 'learning_rste': 0.0551808713443168, 'max_depth': 3}. Best is trial 17 with value: 0.13903376802322778.\u001b[0m\n"
     ]
    },
    {
     "name": "stderr",
     "output_type": "stream",
     "text": [
      "\u001b[32m[I 2021-04-02 10:11:07,931]\u001b[0m Trial 26 finished with value: 0.9440585390651606 and parameters: {'booster': 'dart', 'reg_lambda': 0.01913931034899178, 'reg_alpha': 0.0009490791085675982, 'n_estimators': 79, 'learning_rste': 0.024694933235287736, 'max_depth': 3}. Best is trial 17 with value: 0.13903376802322778.\u001b[0m\n",
      "\u001b[32m[I 2021-04-02 10:11:10,626]\u001b[0m Trial 27 finished with value: 2.4051684760904 and parameters: {'booster': 'dart', 'reg_lambda': 0.0006687375669051658, 'reg_alpha': 0.00010088907556259774, 'n_estimators': 90, 'learning_rste': 0.011287746849665522, 'max_depth': 4}. Best is trial 17 with value: 0.13903376802322778.\u001b[0m\n",
      "\u001b[32m[I 2021-04-02 10:11:11,419]\u001b[0m Trial 28 finished with value: 0.1491836173313647 and parameters: {'booster': 'gbtree', 'reg_lambda': 0.002806448773645919, 'reg_alpha': 0.00017293683170350552, 'n_estimators': 65, 'learning_rste': 0.0977979426385512, 'max_depth': 3}. Best is trial 17 with value: 0.13903376802322778.\u001b[0m\n",
      "\u001b[32m[I 2021-04-02 10:11:12,113]\u001b[0m Trial 29 finished with value: 5.261114617332038 and parameters: {'booster': 'gbtree', 'reg_lambda': 0.00019942258452736788, 'reg_alpha': 0.0008304073770076534, 'n_estimators': 58, 'learning_rste': 0.004028542051082664, 'max_depth': 3}. Best is trial 17 with value: 0.13903376802322778.\u001b[0m\n",
      "\u001b[32m[I 2021-04-02 10:11:13,396]\u001b[0m Trial 30 finished with value: 0.0636758630692235 and parameters: {'booster': 'gbtree', 'reg_lambda': 0.002640502510478111, 'reg_alpha': 0.0002314189073546996, 'n_estimators': 76, 'learning_rste': 0.08773583431521899, 'max_depth': 5}. Best is trial 30 with value: 0.0636758630692235.\u001b[0m\n",
      "\u001b[32m[I 2021-04-02 10:11:15,194]\u001b[0m Trial 31 finished with value: 0.06828458828531608 and parameters: {'booster': 'gbtree', 'reg_lambda': 0.00225567174128076, 'reg_alpha': 0.000255516850644897, 'n_estimators': 89, 'learning_rste': 0.08204996153291537, 'max_depth': 5}. Best is trial 30 with value: 0.0636758630692235.\u001b[0m\n",
      "\u001b[32m[I 2021-04-02 10:11:16,697]\u001b[0m Trial 32 finished with value: 0.0620490351457113 and parameters: {'booster': 'gbtree', 'reg_lambda': 0.0033665808262710087, 'reg_alpha': 0.00022046646482340885, 'n_estimators': 87, 'learning_rste': 0.08345596438127527, 'max_depth': 5}. Best is trial 32 with value: 0.0620490351457113.\u001b[0m\n",
      "\u001b[32m[I 2021-04-02 10:11:18,534]\u001b[0m Trial 33 finished with value: 0.058382700249606935 and parameters: {'booster': 'gbtree', 'reg_lambda': 0.0008272586504911529, 'reg_alpha': 0.0002850523529889784, 'n_estimators': 88, 'learning_rste': 0.09479615168232719, 'max_depth': 5}. Best is trial 33 with value: 0.058382700249606935.\u001b[0m\n",
      "\u001b[32m[I 2021-04-02 10:11:20,048]\u001b[0m Trial 34 finished with value: 6.568082350321938 and parameters: {'booster': 'gbtree', 'reg_lambda': 0.0008736419634434695, 'reg_alpha': 0.00023951917563628532, 'n_estimators': 90, 'learning_rste': 0.00012363987648455856, 'max_depth': 5}. Best is trial 33 with value: 0.058382700249606935.\u001b[0m\n",
      "\u001b[32m[I 2021-04-02 10:11:22,040]\u001b[0m Trial 35 finished with value: 0.06846883588615213 and parameters: {'booster': 'gbtree', 'reg_lambda': 0.0004553506865436014, 'reg_alpha': 0.0007728285611254237, 'n_estimators': 100, 'learning_rste': 0.06149387795162409, 'max_depth': 5}. Best is trial 33 with value: 0.058382700249606935.\u001b[0m\n",
      "\u001b[32m[I 2021-04-02 10:11:24,248]\u001b[0m Trial 36 finished with value: 0.05842990337165854 and parameters: {'booster': 'gbtree', 'reg_lambda': 0.00024882094927069684, 'reg_alpha': 0.0003731694329148901, 'n_estimators': 85, 'learning_rste': 0.09780550673924933, 'max_depth': 5}. Best is trial 33 with value: 0.058382700249606935.\u001b[0m\n",
      "\u001b[32m[I 2021-04-02 10:11:25,740]\u001b[0m Trial 37 finished with value: 0.6632775975909566 and parameters: {'booster': 'gbtree', 'reg_lambda': 0.00010447369985536457, 'reg_alpha': 0.0023043739311637396, 'n_estimators': 82, 'learning_rste': 0.02807078221342687, 'max_depth': 5}. Best is trial 33 with value: 0.058382700249606935.\u001b[0m\n",
      "\u001b[32m[I 2021-04-02 10:11:28,065]\u001b[0m Trial 38 finished with value: 0.05770142842933908 and parameters: {'booster': 'gbtree', 'reg_lambda': 0.00023458256345874166, 'reg_alpha': 0.0005025112066662684, 'n_estimators': 95, 'learning_rste': 0.09697018361286994, 'max_depth': 5}. Best is trial 38 with value: 0.05770142842933908.\u001b[0m\n",
      "\u001b[32m[I 2021-04-02 10:11:30,338]\u001b[0m Trial 39 finished with value: 6.500639082324446 and parameters: {'booster': 'gbtree', 'reg_lambda': 0.00019151539677721895, 'reg_alpha': 0.0005428372643430878, 'n_estimators': 96, 'learning_rste': 0.00022859918089428817, 'max_depth': 5}. Best is trial 38 with value: 0.05770142842933908.\u001b[0m\n",
      "\u001b[32m[I 2021-04-02 10:11:32,587]\u001b[0m Trial 40 finished with value: 0.05964160131786381 and parameters: {'booster': 'gbtree', 'reg_lambda': 0.0002377321137749596, 'reg_alpha': 0.0012888475540789226, 'n_estimators': 95, 'learning_rste': 0.055205880096698384, 'max_depth': 6}. Best is trial 38 with value: 0.05770142842933908.\u001b[0m\n",
      "\u001b[32m[I 2021-04-02 10:11:34,847]\u001b[0m Trial 41 finished with value: 0.056506706604849695 and parameters: {'booster': 'gbtree', 'reg_lambda': 0.00021698395224090044, 'reg_alpha': 0.0012897279214828504, 'n_estimators': 94, 'learning_rste': 0.059370018240853695, 'max_depth': 6}. Best is trial 41 with value: 0.056506706604849695.\u001b[0m\n",
      "\u001b[32m[I 2021-04-02 10:11:37,086]\u001b[0m Trial 42 finished with value: 0.048916262179517146 and parameters: {'booster': 'gbtree', 'reg_lambda': 0.00021271694771424738, 'reg_alpha': 0.0013910785793894895, 'n_estimators': 97, 'learning_rste': 0.05934052877443836, 'max_depth': 6}. Best is trial 42 with value: 0.048916262179517146.\u001b[0m\n",
      "\u001b[32m[I 2021-04-02 10:11:39,772]\u001b[0m Trial 43 finished with value: 0.03236631137048576 and parameters: {'booster': 'gbtree', 'reg_lambda': 0.0003501400606652339, 'reg_alpha': 0.002002683778053861, 'n_estimators': 100, 'learning_rste': 0.09931046277961875, 'max_depth': 6}. Best is trial 43 with value: 0.03236631137048576.\u001b[0m\n",
      "\u001b[32m[I 2021-04-02 10:11:41,964]\u001b[0m Trial 44 finished with value: 0.7931205161206493 and parameters: {'booster': 'gbtree', 'reg_lambda': 0.00013237836279981075, 'reg_alpha': 0.0038277069735044708, 'n_estimators': 100, 'learning_rste': 0.021143030544502207, 'max_depth': 6}. Best is trial 43 with value: 0.03236631137048576.\u001b[0m\n",
      "\u001b[32m[I 2021-04-02 10:11:45,379]\u001b[0m Trial 45 finished with value: 5.988439210021502 and parameters: {'booster': 'gbtree', 'reg_lambda': 0.0003607420606123308, 'reg_alpha': 0.00246976574338285, 'n_estimators': 93, 'learning_rste': 0.0011220915112999726, 'max_depth': 6}. Best is trial 43 with value: 0.03236631137048576.\u001b[0m\n",
      "\u001b[32m[I 2021-04-02 10:11:50,471]\u001b[0m Trial 46 finished with value: 0.06707734958159911 and parameters: {'booster': 'gbtree', 'reg_lambda': 0.000505083615929206, 'reg_alpha': 0.0013405419036410459, 'n_estimators': 93, 'learning_rste': 0.057202005183584835, 'max_depth': 6}. Best is trial 43 with value: 0.03236631137048576.\u001b[0m\n",
      "\u001b[32m[I 2021-04-02 10:11:55,294]\u001b[0m Trial 47 finished with value: 0.28375105751976937 and parameters: {'booster': 'gbtree', 'reg_lambda': 0.00011251297932569404, 'reg_alpha': 0.0020769832409127634, 'n_estimators': 100, 'learning_rste': 0.03155134865990158, 'max_depth': 6}. Best is trial 43 with value: 0.03236631137048576.\u001b[0m\n",
      "\u001b[32m[I 2021-04-02 10:11:57,860]\u001b[0m Trial 48 finished with value: 0.024927965295779436 and parameters: {'booster': 'gbtree', 'reg_lambda': 0.0010082707987589025, 'reg_alpha': 0.003965881688458417, 'n_estimators': 97, 'learning_rste': 0.09948967002356002, 'max_depth': 6}. Best is trial 48 with value: 0.024927965295779436.\u001b[0m\n",
      "\u001b[32m[I 2021-04-02 10:12:01,127]\u001b[0m Trial 49 finished with value: 0.05339524880860493 and parameters: {'booster': 'gbtree', 'reg_lambda': 0.00034890282117881543, 'reg_alpha': 0.0038467486333490174, 'n_estimators': 97, 'learning_rste': 0.06743234965713124, 'max_depth': 6}. Best is trial 48 with value: 0.024927965295779436.\u001b[0m\n",
      "\u001b[32m[I 2021-04-02 10:12:04,125]\u001b[0m Trial 50 finished with value: 1.9649706225429766 and parameters: {'booster': 'gbtree', 'reg_lambda': 0.0011914322722185594, 'reg_alpha': 0.015905127179031735, 'n_estimators': 98, 'learning_rste': 0.012389890222875736, 'max_depth': 6}. Best is trial 48 with value: 0.024927965295779436.\u001b[0m\n",
      "\u001b[32m[I 2021-04-02 10:12:06,386]\u001b[0m Trial 51 finished with value: 0.05943412037671628 and parameters: {'booster': 'gbtree', 'reg_lambda': 0.0003221632692991097, 'reg_alpha': 0.004037275580002403, 'n_estimators': 94, 'learning_rste': 0.06439893714561715, 'max_depth': 6}. Best is trial 48 with value: 0.024927965295779436.\u001b[0m\n"
     ]
    },
    {
     "name": "stderr",
     "output_type": "stream",
     "text": [
      "\u001b[32m[I 2021-04-02 10:12:08,924]\u001b[0m Trial 52 finished with value: 0.1527695651720366 and parameters: {'booster': 'gbtree', 'reg_lambda': 0.00016973806485303503, 'reg_alpha': 0.005514455987844097, 'n_estimators': 84, 'learning_rste': 0.046122258341876984, 'max_depth': 6}. Best is trial 48 with value: 0.024927965295779436.\u001b[0m\n",
      "\u001b[32m[I 2021-04-02 10:12:11,951]\u001b[0m Trial 53 finished with value: 0.03857309822608623 and parameters: {'booster': 'gbtree', 'reg_lambda': 0.0005874241092647897, 'reg_alpha': 0.00168798553738169, 'n_estimators': 100, 'learning_rste': 0.06951770440334602, 'max_depth': 6}. Best is trial 48 with value: 0.024927965295779436.\u001b[0m\n",
      "\u001b[32m[I 2021-04-02 10:12:14,605]\u001b[0m Trial 54 finished with value: 0.21673290714856172 and parameters: {'booster': 'gbtree', 'reg_lambda': 0.0006031052749888627, 'reg_alpha': 0.003426920663423062, 'n_estimators': 100, 'learning_rste': 0.03464054603880256, 'max_depth': 6}. Best is trial 48 with value: 0.024927965295779436.\u001b[0m\n",
      "\u001b[32m[I 2021-04-02 10:12:17,173]\u001b[0m Trial 55 finished with value: 0.05510376617456635 and parameters: {'booster': 'gbtree', 'reg_lambda': 0.00031805739324546945, 'reg_alpha': 0.001710481462373566, 'n_estimators': 98, 'learning_rste': 0.06421458331544976, 'max_depth': 6}. Best is trial 48 with value: 0.024927965295779436.\u001b[0m\n",
      "\u001b[32m[I 2021-04-02 10:12:21,355]\u001b[0m Trial 56 finished with value: 0.0358403959643364 and parameters: {'booster': 'gbtree', 'reg_lambda': 0.00032412411799127665, 'reg_alpha': 0.009647017112704897, 'n_estimators': 98, 'learning_rste': 0.07668515611764007, 'max_depth': 6}. Best is trial 48 with value: 0.024927965295779436.\u001b[0m\n",
      "\u001b[32m[I 2021-04-02 10:12:25,665]\u001b[0m Trial 57 finished with value: 0.5046989067004991 and parameters: {'booster': 'gbtree', 'reg_lambda': 0.001004641033755391, 'reg_alpha': 0.011810917076485182, 'n_estimators': 100, 'learning_rste': 0.0257708852126984, 'max_depth': 6}. Best is trial 48 with value: 0.024927965295779436.\u001b[0m\n",
      "\u001b[32m[I 2021-04-02 10:12:26,573]\u001b[0m Trial 58 finished with value: 1.1031583895642312 and parameters: {'booster': 'gblinear', 'reg_lambda': 0.0012576703830066282, 'reg_alpha': 0.035044181318139335, 'n_estimators': 91, 'learning_rste': 0.04560745988765263, 'max_depth': 6}. Best is trial 48 with value: 0.024927965295779436.\u001b[0m\n",
      "\u001b[32m[I 2021-04-02 10:12:30,285]\u001b[0m Trial 59 finished with value: 0.048055256043203466 and parameters: {'booster': 'gbtree', 'reg_lambda': 0.0006282464453659868, 'reg_alpha': 0.005711759781419757, 'n_estimators': 86, 'learning_rste': 0.07919222692538809, 'max_depth': 6}. Best is trial 48 with value: 0.024927965295779436.\u001b[0m\n",
      "\u001b[32m[I 2021-04-02 10:12:33,170]\u001b[0m Trial 60 finished with value: 1.6118659450545834 and parameters: {'booster': 'gbtree', 'reg_lambda': 0.000660063871759494, 'reg_alpha': 0.007445209669341034, 'n_estimators': 86, 'learning_rste': 0.01640187505415414, 'max_depth': 6}. Best is trial 48 with value: 0.024927965295779436.\u001b[0m\n",
      "\u001b[32m[I 2021-04-02 10:12:37,302]\u001b[0m Trial 61 finished with value: 0.04278294748633585 and parameters: {'booster': 'gbtree', 'reg_lambda': 0.0004308542947671595, 'reg_alpha': 0.004834105623953064, 'n_estimators': 98, 'learning_rste': 0.07222510231459796, 'max_depth': 6}. Best is trial 48 with value: 0.024927965295779436.\u001b[0m\n",
      "\u001b[32m[I 2021-04-02 10:12:41,375]\u001b[0m Trial 62 finished with value: 0.03804541315368235 and parameters: {'booster': 'gbtree', 'reg_lambda': 0.0004122297750713851, 'reg_alpha': 0.012764643164248976, 'n_estimators': 92, 'learning_rste': 0.09761465077159769, 'max_depth': 6}. Best is trial 48 with value: 0.024927965295779436.\u001b[0m\n",
      "\u001b[32m[I 2021-04-02 10:12:45,022]\u001b[0m Trial 63 finished with value: 0.049473993683605486 and parameters: {'booster': 'gbtree', 'reg_lambda': 0.0005238764806275388, 'reg_alpha': 0.005366146193334606, 'n_estimators': 92, 'learning_rste': 0.07468440592789836, 'max_depth': 6}. Best is trial 48 with value: 0.024927965295779436.\u001b[0m\n",
      "\u001b[32m[I 2021-04-02 10:12:49,957]\u001b[0m Trial 64 finished with value: 0.029592560537522832 and parameters: {'booster': 'gbtree', 'reg_lambda': 0.00013996512054404532, 'reg_alpha': 0.019147976054667407, 'n_estimators': 100, 'learning_rste': 0.09625025992848874, 'max_depth': 6}. Best is trial 48 with value: 0.024927965295779436.\u001b[0m\n",
      "\u001b[32m[I 2021-04-02 10:12:54,383]\u001b[0m Trial 65 finished with value: 0.02818495813825865 and parameters: {'booster': 'gbtree', 'reg_lambda': 0.00013195118384861886, 'reg_alpha': 0.018515223161302316, 'n_estimators': 100, 'learning_rste': 0.09989693615020091, 'max_depth': 6}. Best is trial 48 with value: 0.024927965295779436.\u001b[0m\n",
      "\u001b[32m[I 2021-04-02 10:12:58,284]\u001b[0m Trial 66 finished with value: 0.1593666151503919 and parameters: {'booster': 'gbtree', 'reg_lambda': 0.00013968621804483312, 'reg_alpha': 0.01892313023518387, 'n_estimators': 100, 'learning_rste': 0.038248337481891694, 'max_depth': 6}. Best is trial 48 with value: 0.024927965295779436.\u001b[0m\n",
      "\u001b[32m[I 2021-04-02 10:13:02,693]\u001b[0m Trial 67 finished with value: 0.028581095842363336 and parameters: {'booster': 'gbtree', 'reg_lambda': 0.00016153507825208177, 'reg_alpha': 0.023329053444828423, 'n_estimators': 91, 'learning_rste': 0.09335699553253582, 'max_depth': 6}. Best is trial 48 with value: 0.024927965295779436.\u001b[0m\n",
      "\u001b[32m[I 2021-04-02 10:13:04,331]\u001b[0m Trial 68 finished with value: 0.6421005237879419 and parameters: {'booster': 'gblinear', 'reg_lambda': 0.00014396800583712604, 'reg_alpha': 0.02692274821152959, 'n_estimators': 79, 'learning_rste': 0.09281005543437557, 'max_depth': 6}. Best is trial 48 with value: 0.024927965295779436.\u001b[0m\n",
      "\u001b[32m[I 2021-04-02 10:13:07,914]\u001b[0m Trial 69 finished with value: 0.11202493440994811 and parameters: {'booster': 'gbtree', 'reg_lambda': 0.00029430105212436083, 'reg_alpha': 0.06174579128264118, 'n_estimators': 91, 'learning_rste': 0.048113448453443536, 'max_depth': 6}. Best is trial 48 with value: 0.024927965295779436.\u001b[0m\n",
      "\u001b[32m[I 2021-04-02 10:13:09,310]\u001b[0m Trial 70 finished with value: 0.13775958310975825 and parameters: {'booster': 'gbtree', 'reg_lambda': 0.00010786285063959978, 'reg_alpha': 0.07715824756364517, 'n_estimators': 39, 'learning_rste': 0.09974002430871941, 'max_depth': 6}. Best is trial 48 with value: 0.024927965295779436.\u001b[0m\n",
      "\u001b[32m[I 2021-04-02 10:13:12,563]\u001b[0m Trial 71 finished with value: 0.05040244590084151 and parameters: {'booster': 'gbtree', 'reg_lambda': 0.00016152201179036783, 'reg_alpha': 0.009979271244883329, 'n_estimators': 95, 'learning_rste': 0.07938174299348175, 'max_depth': 6}. Best is trial 48 with value: 0.024927965295779436.\u001b[0m\n",
      "\u001b[32m[I 2021-04-02 10:13:14,849]\u001b[0m Trial 72 finished with value: 0.03283571743332943 and parameters: {'booster': 'gbtree', 'reg_lambda': 0.00042459482416178676, 'reg_alpha': 0.0200334892130652, 'n_estimators': 89, 'learning_rste': 0.09713279329228221, 'max_depth': 6}. Best is trial 48 with value: 0.024927965295779436.\u001b[0m\n",
      "\u001b[32m[I 2021-04-02 10:13:17,025]\u001b[0m Trial 73 finished with value: 0.0913691502070984 and parameters: {'booster': 'gbtree', 'reg_lambda': 0.0004196340975219052, 'reg_alpha': 0.01768457730570597, 'n_estimators': 88, 'learning_rste': 0.051283380192537725, 'max_depth': 6}. Best is trial 48 with value: 0.024927965295779436.\u001b[0m\n",
      "\u001b[32m[I 2021-04-02 10:13:19,177]\u001b[0m Trial 74 finished with value: 0.04441681034457393 and parameters: {'booster': 'gbtree', 'reg_lambda': 0.000274541566612161, 'reg_alpha': 0.024953302408633866, 'n_estimators': 84, 'learning_rste': 0.08860885772938444, 'max_depth': 6}. Best is trial 48 with value: 0.024927965295779436.\u001b[0m\n",
      "\u001b[32m[I 2021-04-02 10:13:21,652]\u001b[0m Trial 75 finished with value: 0.031418976081587266 and parameters: {'booster': 'gbtree', 'reg_lambda': 0.0007782230648898459, 'reg_alpha': 0.013133191572669558, 'n_estimators': 91, 'learning_rste': 0.09966694529910863, 'max_depth': 6}. Best is trial 48 with value: 0.024927965295779436.\u001b[0m\n",
      "\u001b[32m[I 2021-04-02 10:13:23,791]\u001b[0m Trial 76 finished with value: 0.03587613492636638 and parameters: {'booster': 'gbtree', 'reg_lambda': 0.00010647964061732124, 'reg_alpha': 0.042590512070708006, 'n_estimators': 81, 'learning_rste': 0.09915682525310787, 'max_depth': 6}. Best is trial 48 with value: 0.024927965295779436.\u001b[0m\n",
      "\u001b[32m[I 2021-04-02 10:13:26,297]\u001b[0m Trial 77 finished with value: 5.416135789106385 and parameters: {'booster': 'gbtree', 'reg_lambda': 0.0013947604445849738, 'reg_alpha': 0.007580443296450001, 'n_estimators': 90, 'learning_rste': 0.002267648009885454, 'max_depth': 6}. Best is trial 48 with value: 0.024927965295779436.\u001b[0m\n"
     ]
    },
    {
     "name": "stderr",
     "output_type": "stream",
     "text": [
      "\u001b[32m[I 2021-04-02 10:13:28,617]\u001b[0m Trial 78 finished with value: 0.03386557491547572 and parameters: {'booster': 'gbtree', 'reg_lambda': 0.0007789376687002243, 'reg_alpha': 0.022528784100427343, 'n_estimators': 97, 'learning_rste': 0.09974004664519419, 'max_depth': 6}. Best is trial 48 with value: 0.024927965295779436.\u001b[0m\n",
      "\u001b[32m[I 2021-04-02 10:13:30,836]\u001b[0m Trial 79 finished with value: 0.2706839750490093 and parameters: {'booster': 'gbtree', 'reg_lambda': 0.0008375895895406074, 'reg_alpha': 0.02264955216474104, 'n_estimators': 88, 'learning_rste': 0.03671661415747819, 'max_depth': 6}. Best is trial 48 with value: 0.024927965295779436.\u001b[0m\n",
      "\u001b[32m[I 2021-04-02 10:13:33,241]\u001b[0m Trial 80 finished with value: 0.06779050199613021 and parameters: {'booster': 'gbtree', 'reg_lambda': 0.006785838764382462, 'reg_alpha': 0.013930852200996878, 'n_estimators': 96, 'learning_rste': 0.052538240331075306, 'max_depth': 6}. Best is trial 48 with value: 0.024927965295779436.\u001b[0m\n",
      "\u001b[32m[I 2021-04-02 10:13:35,616]\u001b[0m Trial 81 finished with value: 0.03837558545984012 and parameters: {'booster': 'gbtree', 'reg_lambda': 0.0007490831890439881, 'reg_alpha': 0.009373381613831427, 'n_estimators': 96, 'learning_rste': 0.07509797766643025, 'max_depth': 6}. Best is trial 48 with value: 0.024927965295779436.\u001b[0m\n",
      "\u001b[32m[I 2021-04-02 10:13:38,445]\u001b[0m Trial 82 finished with value: 0.037598409468592754 and parameters: {'booster': 'gbtree', 'reg_lambda': 0.00017760469802504297, 'reg_alpha': 0.0350524768039668, 'n_estimators': 98, 'learning_rste': 0.09965979505498122, 'max_depth': 6}. Best is trial 48 with value: 0.024927965295779436.\u001b[0m\n",
      "\u001b[32m[I 2021-04-02 10:13:40,972]\u001b[0m Trial 83 finished with value: 0.03796214733303284 and parameters: {'booster': 'gbtree', 'reg_lambda': 0.0015544588643400107, 'reg_alpha': 0.02079299654141111, 'n_estimators': 93, 'learning_rste': 0.08247640905630682, 'max_depth': 6}. Best is trial 48 with value: 0.024927965295779436.\u001b[0m\n",
      "\u001b[32m[I 2021-04-02 10:13:43,157]\u001b[0m Trial 84 finished with value: 0.06060682539163485 and parameters: {'booster': 'gbtree', 'reg_lambda': 0.0010150790343573658, 'reg_alpha': 0.05904478522201433, 'n_estimators': 90, 'learning_rste': 0.0655764211717234, 'max_depth': 6}. Best is trial 48 with value: 0.024927965295779436.\u001b[0m\n",
      "\u001b[32m[I 2021-04-02 10:13:46,157]\u001b[0m Trial 85 finished with value: 0.03841226307954773 and parameters: {'booster': 'gbtree', 'reg_lambda': 0.0002535823698230679, 'reg_alpha': 0.03131022208866931, 'n_estimators': 94, 'learning_rste': 0.0832297829609751, 'max_depth': 6}. Best is trial 48 with value: 0.024927965295779436.\u001b[0m\n",
      "\u001b[32m[I 2021-04-02 10:13:48,945]\u001b[0m Trial 86 finished with value: 4.493893006067349 and parameters: {'booster': 'gbtree', 'reg_lambda': 0.0003789417200673195, 'reg_alpha': 0.045681290641904335, 'n_estimators': 100, 'learning_rste': 0.003916913388981768, 'max_depth': 6}. Best is trial 48 with value: 0.024927965295779436.\u001b[0m\n",
      "\u001b[32m[I 2021-04-02 10:13:51,418]\u001b[0m Trial 87 finished with value: 0.12524741936754696 and parameters: {'booster': 'gbtree', 'reg_lambda': 0.0001409934348018022, 'reg_alpha': 0.01519129082620485, 'n_estimators': 98, 'learning_rste': 0.04181906291050995, 'max_depth': 6}. Best is trial 48 with value: 0.024927965295779436.\u001b[0m\n",
      "\u001b[32m[I 2021-04-02 10:13:51,903]\u001b[0m Trial 88 finished with value: 5.544381851933637 and parameters: {'booster': 'gblinear', 'reg_lambda': 0.0002880677227981964, 'reg_alpha': 0.002774874378208135, 'n_estimators': 82, 'learning_rste': 0.0007515739595716871, 'max_depth': 6}. Best is trial 48 with value: 0.024927965295779436.\u001b[0m\n",
      "\u001b[32m[I 2021-04-02 10:13:54,285]\u001b[0m Trial 89 finished with value: 6.444547385920166 and parameters: {'booster': 'gbtree', 'reg_lambda': 0.000509732164205156, 'reg_alpha': 0.007621612874543578, 'n_estimators': 96, 'learning_rste': 0.0003171350925736554, 'max_depth': 6}. Best is trial 48 with value: 0.024927965295779436.\u001b[0m\n",
      "\u001b[32m[I 2021-04-02 10:13:56,430]\u001b[0m Trial 90 finished with value: 0.08292338010023562 and parameters: {'booster': 'gbtree', 'reg_lambda': 0.03348950389398007, 'reg_alpha': 0.011099936843554986, 'n_estimators': 88, 'learning_rste': 0.054916549732847125, 'max_depth': 6}. Best is trial 48 with value: 0.024927965295779436.\u001b[0m\n",
      "\u001b[32m[I 2021-04-02 10:13:59,077]\u001b[0m Trial 91 finished with value: 0.033896584724818504 and parameters: {'booster': 'gbtree', 'reg_lambda': 0.00010033901953354297, 'reg_alpha': 0.04886100388557801, 'n_estimators': 92, 'learning_rste': 0.09979889754255607, 'max_depth': 6}. Best is trial 48 with value: 0.024927965295779436.\u001b[0m\n",
      "\u001b[32m[I 2021-04-02 10:14:01,252]\u001b[0m Trial 92 finished with value: 0.039620939408398635 and parameters: {'booster': 'gbtree', 'reg_lambda': 0.0001865111156240653, 'reg_alpha': 0.17398284594027905, 'n_estimators': 92, 'learning_rste': 0.09746752234351873, 'max_depth': 6}. Best is trial 48 with value: 0.024927965295779436.\u001b[0m\n",
      "\u001b[32m[I 2021-04-02 10:14:03,603]\u001b[0m Trial 93 finished with value: 0.0317404320929007 and parameters: {'booster': 'gbtree', 'reg_lambda': 0.00010009456492397057, 'reg_alpha': 0.020701096836795874, 'n_estimators': 94, 'learning_rste': 0.09942166298751841, 'max_depth': 6}. Best is trial 48 with value: 0.024927965295779436.\u001b[0m\n",
      "\u001b[32m[I 2021-04-02 10:14:05,631]\u001b[0m Trial 94 finished with value: 0.03123388266121444 and parameters: {'booster': 'gbtree', 'reg_lambda': 0.00012775767770574584, 'reg_alpha': 0.041501362277476986, 'n_estimators': 84, 'learning_rste': 0.09849314420958845, 'max_depth': 6}. Best is trial 48 with value: 0.024927965295779436.\u001b[0m\n",
      "\u001b[32m[I 2021-04-02 10:14:07,537]\u001b[0m Trial 95 finished with value: 0.07778257041648413 and parameters: {'booster': 'gbtree', 'reg_lambda': 0.00012435787421208872, 'reg_alpha': 0.08055930559675252, 'n_estimators': 77, 'learning_rste': 0.0644802363747811, 'max_depth': 6}. Best is trial 48 with value: 0.024927965295779436.\u001b[0m\n",
      "\u001b[32m[I 2021-04-02 10:14:09,733]\u001b[0m Trial 96 finished with value: 0.044601057512445856 and parameters: {'booster': 'gbtree', 'reg_lambda': 0.00021732704570362216, 'reg_alpha': 0.020493993964730534, 'n_estimators': 84, 'learning_rste': 0.08314478055056818, 'max_depth': 6}. Best is trial 48 with value: 0.024927965295779436.\u001b[0m\n",
      "\u001b[32m[I 2021-04-02 10:14:11,900]\u001b[0m Trial 97 finished with value: 0.030877420065537134 and parameters: {'booster': 'gbtree', 'reg_lambda': 0.00016006495699911514, 'reg_alpha': 0.02605690555417968, 'n_estimators': 87, 'learning_rste': 0.0997082660417679, 'max_depth': 6}. Best is trial 48 with value: 0.024927965295779436.\u001b[0m\n",
      "\u001b[32m[I 2021-04-02 10:14:13,654]\u001b[0m Trial 98 finished with value: 0.06716673790798902 and parameters: {'booster': 'gbtree', 'reg_lambda': 0.00015837304713230957, 'reg_alpha': 0.029660706687045048, 'n_estimators': 74, 'learning_rste': 0.06921255204425585, 'max_depth': 6}. Best is trial 48 with value: 0.024927965295779436.\u001b[0m\n",
      "\u001b[32m[I 2021-04-02 10:14:15,714]\u001b[0m Trial 99 finished with value: 0.06593474586166168 and parameters: {'booster': 'gbtree', 'reg_lambda': 0.00012071063090789133, 'reg_alpha': 0.03627936504547897, 'n_estimators': 86, 'learning_rste': 0.06005245535131843, 'max_depth': 6}. Best is trial 48 with value: 0.024927965295779436.\u001b[0m\n"
     ]
    }
   ],
   "source": [
    "SEED = 42\n",
    "\n",
    "np.random.seed(SEED)\n",
    "\n",
    "xgb_study = optuna.create_study(direction='minimize',sampler=optuna.samplers.TPESampler(seed=SEED),pruner=optuna.pruners.SuccessiveHalvingPruner())\n",
    "xgb_study.optimize(xgb_objective, n_trials=100)"
   ]
  },
  {
   "cell_type": "code",
   "execution_count": 31,
   "metadata": {},
   "outputs": [
    {
     "name": "stdout",
     "output_type": "stream",
     "text": [
      "['seaborn-dark', 'seaborn-darkgrid', 'seaborn-ticks', 'fivethirtyeight', 'seaborn-whitegrid', 'classic', '_classic_test', 'fast', 'seaborn-talk', 'seaborn-dark-palette', 'seaborn-bright', 'seaborn-pastel', 'grayscale', 'seaborn-notebook', 'ggplot', 'seaborn-colorblind', 'seaborn-muted', 'seaborn', 'Solarize_Light2', 'seaborn-paper', 'bmh', 'tableau-colorblind10', 'seaborn-white', 'dark_background', 'seaborn-poster', 'seaborn-deep']\n"
     ]
    }
   ],
   "source": [
    "print(plt.style.available)"
   ]
  },
  {
   "cell_type": "code",
   "execution_count": 28,
   "metadata": {},
   "outputs": [],
   "source": [
    "from typing import Callable\n",
    "from typing import Optional\n",
    "\n",
    "import numpy as np\n",
    "\n",
    "from optuna._experimental import experimental\n",
    "from optuna.logging import get_logger\n",
    "from optuna.study import Study\n",
    "from optuna.study import StudyDirection\n",
    "from optuna.trial import FrozenTrial\n",
    "from optuna.trial import TrialState\n",
    "from optuna.visualization._utils import _check_plot_args\n",
    "from optuna.visualization.matplotlib._matplotlib_imports import _imports\n",
    "\n",
    "\n",
    "if _imports.is_successful():\n",
    "    from optuna.visualization.matplotlib._matplotlib_imports import Axes\n",
    "    from optuna.visualization.matplotlib._matplotlib_imports import plt\n",
    "\n",
    "_logger = get_logger(__name__)"
   ]
  },
  {
   "cell_type": "code",
   "execution_count": 49,
   "metadata": {},
   "outputs": [],
   "source": [
    "def optimization_history(\n",
    "    study: Study,\n",
    "    *,\n",
    "    target: Optional[Callable[[FrozenTrial], float]] = None,\n",
    "    target_name: str = \"Objective Value\",\n",
    ") -> \"Axes\":\n",
    "    \"\"\"Plot optimization history of all trials in a study with Matplotlib.\n",
    "    .. seealso::\n",
    "        Please refer to :func:`optuna.visualization.plot_optimization_history` for an example.\n",
    "    Example:\n",
    "        The following code snippet shows how to plot optimization history.\n",
    "        .. plot::\n",
    "            import optuna\n",
    "            def objective(trial):\n",
    "                x = trial.suggest_float(\"x\", -100, 100)\n",
    "                y = trial.suggest_categorical(\"y\", [-1, 0, 1])\n",
    "                return x ** 2 + y\n",
    "            sampler = optuna.samplers.TPESampler(seed=10)\n",
    "            study = optuna.create_study(sampler=sampler)\n",
    "            study.optimize(objective, n_trials=10)\n",
    "            optuna.visualization.matplotlib.plot_optimization_history(study)\n",
    "    Args:\n",
    "        study:\n",
    "            A :class:`~optuna.study.Study` object whose trials are plotted for their target values.\n",
    "        target:\n",
    "            A function to specify the value to display. If it is :obj:`None` and ``study`` is being\n",
    "            used for single-objective optimization, the objective values are plotted.\n",
    "            .. note::\n",
    "                Specify this argument if ``study`` is being used for multi-objective optimization.\n",
    "        target_name:\n",
    "            Target's name to display on the axis label and the legend.\n",
    "    Returns:\n",
    "        A :class:`matplotlib.axes.Axes` object.\n",
    "    Raises:\n",
    "        :exc:`ValueError`:\n",
    "            If ``target`` is :obj:`None` and ``study`` is being used for multi-objective\n",
    "            optimization.\n",
    "    \"\"\"\n",
    "\n",
    "    _imports.check()\n",
    "    _check_plot_args(study, target, target_name)\n",
    "    get_optimization_history_plot(study, target, target_name)\n",
    "    return 0\n",
    "\n",
    "\n",
    "def get_optimization_history_plot(\n",
    "    study: Study,\n",
    "    target: Optional[Callable[[FrozenTrial], float]],\n",
    "    target_name: str,\n",
    ") -> \"Axes\":\n",
    "\n",
    "    # Set up the graph style.\n",
    "    fig = plt.figure()\n",
    "    plt.title(\"Optimization History Plot\")\n",
    "    plt.xlabel(\"#Trials\")\n",
    "    plt.ylabel(target_name)\n",
    "    \n",
    "    # Prepare data for plotting.\n",
    "    trials = [t for t in study.trials if t.state == TrialState.COMPLETE]\n",
    "\n",
    "    if len(trials) == 0:\n",
    "        _logger.warning(\"Study instance does not contain trials.\")\n",
    "        return 0\n",
    "\n",
    "    # Draw a scatter plot and a line plot.\n",
    "    if target is None:\n",
    "        if study.direction == StudyDirection.MINIMIZE:\n",
    "            best_values = np.minimum.accumulate([t.value for t in trials])\n",
    "        else:\n",
    "            best_values = np.maximum.accumulate([t.value for t in trials])\n",
    "        plt.scatter(\n",
    "            x=[t.number for t in trials],\n",
    "            y=[t.value for t in trials],\n",
    "            color='blue',\n",
    "            alpha=1,\n",
    "            label=target_name,\n",
    "        )\n",
    "        plt.plot(\n",
    "            [t.number for t in trials],\n",
    "            best_values,\n",
    "            marker=\"o\",\n",
    "            color='red',\n",
    "            alpha=0.5,\n",
    "            label=\"Best Value\",\n",
    "        )\n",
    "\n",
    "        plt.legend()\n",
    "    else:\n",
    "        plt.scatter(\n",
    "            x=[t.number for t in trials],\n",
    "            y=[target(t) for t in trials],\n",
    "            color='red',\n",
    "            alpha=1,\n",
    "            label=target_name,\n",
    "        )\n",
    "    plt.savefig('pd_opt_his.png',dpi = 1200,bbox_inches='tight')\n",
    "    plt.show()\n",
    "    "
   ]
  },
  {
   "cell_type": "code",
   "execution_count": 50,
   "metadata": {},
   "outputs": [
    {
     "data": {
      "image/png": "[encoded data removed]",
      "text/plain": [
       "<Figure size 432x288 with 1 Axes>"
      ]
     },
     "metadata": {
      "needs_background": "light"
     },
     "output_type": "display_data"
    },
    {
     "data": {
      "text/plain": [
       "0"
      ]
     },
     "execution_count": 50,
     "metadata": {},
     "output_type": "execute_result"
    }
   ],
   "source": [
    "optimization_history(xgb_study)"
   ]
  },
  {
   "cell_type": "code",
   "execution_count": 42,
   "metadata": {},
   "outputs": [
    {
     "data": {
      "text/html": [
       "<div>\n",
       "<style scoped>\n",
       "    .dataframe tbody tr th:only-of-type {\n",
       "        vertical-align: middle;\n",
       "    }\n",
       "\n",
       "    .dataframe tbody tr th {\n",
       "        vertical-align: top;\n",
       "    }\n",
       "\n",
       "    .dataframe thead th {\n",
       "        text-align: right;\n",
       "    }\n",
       "</style>\n",
       "<table border=\"1\" class=\"dataframe\">\n",
       "  <thead>\n",
       "    <tr style=\"text-align: right;\">\n",
       "      <th></th>\n",
       "      <th>number</th>\n",
       "      <th>value</th>\n",
       "      <th>datetime_start</th>\n",
       "      <th>datetime_complete</th>\n",
       "      <th>duration</th>\n",
       "      <th>params_booster</th>\n",
       "      <th>params_learning_rste</th>\n",
       "      <th>params_max_depth</th>\n",
       "      <th>params_n_estimators</th>\n",
       "      <th>params_reg_alpha</th>\n",
       "      <th>params_reg_lambda</th>\n",
       "      <th>state</th>\n",
       "    </tr>\n",
       "  </thead>\n",
       "  <tbody>\n",
       "    <tr>\n",
       "      <th>0</th>\n",
       "      <td>0</td>\n",
       "      <td>4.000813</td>\n",
       "      <td>2021-02-22 20:00:22.757842</td>\n",
       "      <td>2021-02-22 20:00:25.407893</td>\n",
       "      <td>00:00:02.650051</td>\n",
       "      <td>dart</td>\n",
       "      <td>0.006251</td>\n",
       "      <td>5</td>\n",
       "      <td>81</td>\n",
       "      <td>0.000542</td>\n",
       "      <td>0.153522</td>\n",
       "      <td>COMPLETE</td>\n",
       "    </tr>\n",
       "    <tr>\n",
       "      <th>1</th>\n",
       "      <td>1</td>\n",
       "      <td>5.048814</td>\n",
       "      <td>2021-02-22 20:00:25.409359</td>\n",
       "      <td>2021-02-22 20:00:25.837278</td>\n",
       "      <td>00:00:00.427919</td>\n",
       "      <td>gblinear</td>\n",
       "      <td>0.001003</td>\n",
       "      <td>6</td>\n",
       "      <td>97</td>\n",
       "      <td>0.000171</td>\n",
       "      <td>0.000421</td>\n",
       "      <td>COMPLETE</td>\n",
       "    </tr>\n",
       "    <tr>\n",
       "      <th>2</th>\n",
       "      <td>2</td>\n",
       "      <td>6.535824</td>\n",
       "      <td>2021-02-22 20:00:25.838552</td>\n",
       "      <td>2021-02-22 20:00:26.753357</td>\n",
       "      <td>00:00:00.914805</td>\n",
       "      <td>dart</td>\n",
       "      <td>0.000434</td>\n",
       "      <td>6</td>\n",
       "      <td>39</td>\n",
       "      <td>0.757948</td>\n",
       "      <td>0.000121</td>\n",
       "      <td>COMPLETE</td>\n",
       "    </tr>\n",
       "    <tr>\n",
       "      <th>3</th>\n",
       "      <td>3</td>\n",
       "      <td>6.185057</td>\n",
       "      <td>2021-02-22 20:00:26.754845</td>\n",
       "      <td>2021-02-22 20:00:28.329767</td>\n",
       "      <td>00:00:01.574922</td>\n",
       "      <td>gbtree</td>\n",
       "      <td>0.000748</td>\n",
       "      <td>5</td>\n",
       "      <td>98</td>\n",
       "      <td>0.027965</td>\n",
       "      <td>0.029507</td>\n",
       "      <td>COMPLETE</td>\n",
       "    </tr>\n",
       "    <tr>\n",
       "      <th>4</th>\n",
       "      <td>4</td>\n",
       "      <td>6.360814</td>\n",
       "      <td>2021-02-22 20:00:28.330894</td>\n",
       "      <td>2021-02-22 20:00:30.677013</td>\n",
       "      <td>00:00:02.346119</td>\n",
       "      <td>dart</td>\n",
       "      <td>0.000499</td>\n",
       "      <td>4</td>\n",
       "      <td>89</td>\n",
       "      <td>0.001474</td>\n",
       "      <td>0.000361</td>\n",
       "      <td>COMPLETE</td>\n",
       "    </tr>\n",
       "    <tr>\n",
       "      <th>5</th>\n",
       "      <td>5</td>\n",
       "      <td>5.534666</td>\n",
       "      <td>2021-02-22 20:00:30.679339</td>\n",
       "      <td>2021-02-22 20:00:31.998000</td>\n",
       "      <td>00:00:01.318661</td>\n",
       "      <td>dart</td>\n",
       "      <td>0.002514</td>\n",
       "      <td>3</td>\n",
       "      <td>73</td>\n",
       "      <td>0.003387</td>\n",
       "      <td>0.029754</td>\n",
       "      <td>COMPLETE</td>\n",
       "    </tr>\n",
       "    <tr>\n",
       "      <th>6</th>\n",
       "      <td>6</td>\n",
       "      <td>0.946726</td>\n",
       "      <td>2021-02-22 20:00:31.999302</td>\n",
       "      <td>2021-02-22 20:00:32.705596</td>\n",
       "      <td>00:00:00.706294</td>\n",
       "      <td>dart</td>\n",
       "      <td>0.070252</td>\n",
       "      <td>6</td>\n",
       "      <td>27</td>\n",
       "      <td>0.006339</td>\n",
       "      <td>0.052630</td>\n",
       "      <td>COMPLETE</td>\n",
       "    </tr>\n",
       "    <tr>\n",
       "      <th>7</th>\n",
       "      <td>7</td>\n",
       "      <td>6.072048</td>\n",
       "      <td>2021-02-22 20:00:32.706941</td>\n",
       "      <td>2021-02-22 20:00:32.987784</td>\n",
       "      <td>00:00:00.280843</td>\n",
       "      <td>gblinear</td>\n",
       "      <td>0.000493</td>\n",
       "      <td>6</td>\n",
       "      <td>62</td>\n",
       "      <td>0.001654</td>\n",
       "      <td>0.171234</td>\n",
       "      <td>COMPLETE</td>\n",
       "    </tr>\n",
       "    <tr>\n",
       "      <th>8</th>\n",
       "      <td>8</td>\n",
       "      <td>6.646257</td>\n",
       "      <td>2021-02-22 20:00:32.989139</td>\n",
       "      <td>2021-02-22 20:00:33.257497</td>\n",
       "      <td>00:00:00.268358</td>\n",
       "      <td>dart</td>\n",
       "      <td>0.000127</td>\n",
       "      <td>4</td>\n",
       "      <td>17</td>\n",
       "      <td>0.027541</td>\n",
       "      <td>0.054082</td>\n",
       "      <td>COMPLETE</td>\n",
       "    </tr>\n",
       "    <tr>\n",
       "      <th>9</th>\n",
       "      <td>9</td>\n",
       "      <td>6.519010</td>\n",
       "      <td>2021-02-22 20:00:33.258690</td>\n",
       "      <td>2021-02-22 20:00:33.423788</td>\n",
       "      <td>00:00:00.165098</td>\n",
       "      <td>gbtree</td>\n",
       "      <td>0.001886</td>\n",
       "      <td>4</td>\n",
       "      <td>11</td>\n",
       "      <td>0.044678</td>\n",
       "      <td>0.001084</td>\n",
       "      <td>COMPLETE</td>\n",
       "    </tr>\n",
       "    <tr>\n",
       "      <th>10</th>\n",
       "      <td>10</td>\n",
       "      <td>1.343057</td>\n",
       "      <td>2021-02-22 20:00:33.425088</td>\n",
       "      <td>2021-02-22 20:00:33.613032</td>\n",
       "      <td>00:00:00.187944</td>\n",
       "      <td>gblinear</td>\n",
       "      <td>0.089468</td>\n",
       "      <td>5</td>\n",
       "      <td>34</td>\n",
       "      <td>0.362549</td>\n",
       "      <td>0.877305</td>\n",
       "      <td>COMPLETE</td>\n",
       "    </tr>\n",
       "    <tr>\n",
       "      <th>11</th>\n",
       "      <td>11</td>\n",
       "      <td>1.309403</td>\n",
       "      <td>2021-02-22 20:00:33.614429</td>\n",
       "      <td>2021-02-22 20:00:33.832673</td>\n",
       "      <td>00:00:00.218244</td>\n",
       "      <td>gblinear</td>\n",
       "      <td>0.092093</td>\n",
       "      <td>5</td>\n",
       "      <td>34</td>\n",
       "      <td>0.530162</td>\n",
       "      <td>0.965885</td>\n",
       "      <td>COMPLETE</td>\n",
       "    </tr>\n",
       "    <tr>\n",
       "      <th>12</th>\n",
       "      <td>12</td>\n",
       "      <td>1.572265</td>\n",
       "      <td>2021-02-22 20:00:33.834451</td>\n",
       "      <td>2021-02-22 20:00:34.029520</td>\n",
       "      <td>00:00:00.195069</td>\n",
       "      <td>gblinear</td>\n",
       "      <td>0.075292</td>\n",
       "      <td>6</td>\n",
       "      <td>33</td>\n",
       "      <td>0.151236</td>\n",
       "      <td>0.708672</td>\n",
       "      <td>COMPLETE</td>\n",
       "    </tr>\n",
       "    <tr>\n",
       "      <th>13</th>\n",
       "      <td>13</td>\n",
       "      <td>2.406190</td>\n",
       "      <td>2021-02-22 20:00:34.030808</td>\n",
       "      <td>2021-02-22 20:00:34.279743</td>\n",
       "      <td>00:00:00.248935</td>\n",
       "      <td>gblinear</td>\n",
       "      <td>0.018484</td>\n",
       "      <td>5</td>\n",
       "      <td>47</td>\n",
       "      <td>0.008471</td>\n",
       "      <td>0.004447</td>\n",
       "      <td>COMPLETE</td>\n",
       "    </tr>\n",
       "    <tr>\n",
       "      <th>14</th>\n",
       "      <td>14</td>\n",
       "      <td>2.537261</td>\n",
       "      <td>2021-02-22 20:00:34.281026</td>\n",
       "      <td>2021-02-22 20:00:34.451097</td>\n",
       "      <td>00:00:00.170071</td>\n",
       "      <td>gblinear</td>\n",
       "      <td>0.031573</td>\n",
       "      <td>6</td>\n",
       "      <td>22</td>\n",
       "      <td>0.114698</td>\n",
       "      <td>0.306770</td>\n",
       "      <td>COMPLETE</td>\n",
       "    </tr>\n",
       "    <tr>\n",
       "      <th>15</th>\n",
       "      <td>15</td>\n",
       "      <td>2.782348</td>\n",
       "      <td>2021-02-22 20:00:34.452606</td>\n",
       "      <td>2021-02-22 20:00:35.087721</td>\n",
       "      <td>00:00:00.635115</td>\n",
       "      <td>gbtree</td>\n",
       "      <td>0.035648</td>\n",
       "      <td>5</td>\n",
       "      <td>24</td>\n",
       "      <td>0.011313</td>\n",
       "      <td>0.005483</td>\n",
       "      <td>COMPLETE</td>\n",
       "    </tr>\n",
       "    <tr>\n",
       "      <th>16</th>\n",
       "      <td>16</td>\n",
       "      <td>4.527157</td>\n",
       "      <td>2021-02-22 20:00:35.092410</td>\n",
       "      <td>2021-02-22 20:00:36.002530</td>\n",
       "      <td>00:00:00.910120</td>\n",
       "      <td>dart</td>\n",
       "      <td>0.008155</td>\n",
       "      <td>3</td>\n",
       "      <td>47</td>\n",
       "      <td>0.006309</td>\n",
       "      <td>0.918257</td>\n",
       "      <td>COMPLETE</td>\n",
       "    </tr>\n",
       "    <tr>\n",
       "      <th>17</th>\n",
       "      <td>17</td>\n",
       "      <td>0.139034</td>\n",
       "      <td>2021-02-22 20:00:36.003772</td>\n",
       "      <td>2021-02-22 20:00:38.774983</td>\n",
       "      <td>00:00:02.771211</td>\n",
       "      <td>dart</td>\n",
       "      <td>0.073155</td>\n",
       "      <td>5</td>\n",
       "      <td>57</td>\n",
       "      <td>0.000104</td>\n",
       "      <td>0.068172</td>\n",
       "      <td>COMPLETE</td>\n",
       "    </tr>\n",
       "    <tr>\n",
       "      <th>18</th>\n",
       "      <td>18</td>\n",
       "      <td>2.761165</td>\n",
       "      <td>2021-02-22 20:00:38.776300</td>\n",
       "      <td>2021-02-22 20:00:41.466151</td>\n",
       "      <td>00:00:02.689851</td>\n",
       "      <td>dart</td>\n",
       "      <td>0.014075</td>\n",
       "      <td>6</td>\n",
       "      <td>62</td>\n",
       "      <td>0.000183</td>\n",
       "      <td>0.060479</td>\n",
       "      <td>COMPLETE</td>\n",
       "    </tr>\n",
       "    <tr>\n",
       "      <th>19</th>\n",
       "      <td>19</td>\n",
       "      <td>0.517308</td>\n",
       "      <td>2021-02-22 20:00:41.467635</td>\n",
       "      <td>2021-02-22 20:00:43.079215</td>\n",
       "      <td>00:00:01.611580</td>\n",
       "      <td>dart</td>\n",
       "      <td>0.044407</td>\n",
       "      <td>4</td>\n",
       "      <td>57</td>\n",
       "      <td>0.000453</td>\n",
       "      <td>0.014467</td>\n",
       "      <td>COMPLETE</td>\n",
       "    </tr>\n",
       "    <tr>\n",
       "      <th>20</th>\n",
       "      <td>20</td>\n",
       "      <td>0.354817</td>\n",
       "      <td>2021-02-22 20:00:43.080667</td>\n",
       "      <td>2021-02-22 20:00:45.161009</td>\n",
       "      <td>00:00:02.080342</td>\n",
       "      <td>dart</td>\n",
       "      <td>0.042861</td>\n",
       "      <td>4</td>\n",
       "      <td>69</td>\n",
       "      <td>0.000106</td>\n",
       "      <td>0.010981</td>\n",
       "      <td>COMPLETE</td>\n",
       "    </tr>\n",
       "    <tr>\n",
       "      <th>21</th>\n",
       "      <td>21</td>\n",
       "      <td>0.446768</td>\n",
       "      <td>2021-02-22 20:00:45.162343</td>\n",
       "      <td>2021-02-22 20:00:48.342992</td>\n",
       "      <td>00:00:03.180649</td>\n",
       "      <td>dart</td>\n",
       "      <td>0.039764</td>\n",
       "      <td>4</td>\n",
       "      <td>68</td>\n",
       "      <td>0.000101</td>\n",
       "      <td>0.008850</td>\n",
       "      <td>COMPLETE</td>\n",
       "    </tr>\n",
       "    <tr>\n",
       "      <th>22</th>\n",
       "      <td>22</td>\n",
       "      <td>1.660378</td>\n",
       "      <td>2021-02-22 20:00:48.344513</td>\n",
       "      <td>2021-02-22 20:00:50.811587</td>\n",
       "      <td>00:00:02.467074</td>\n",
       "      <td>dart</td>\n",
       "      <td>0.019147</td>\n",
       "      <td>4</td>\n",
       "      <td>72</td>\n",
       "      <td>0.000105</td>\n",
       "      <td>0.004538</td>\n",
       "      <td>COMPLETE</td>\n",
       "    </tr>\n",
       "    <tr>\n",
       "      <th>23</th>\n",
       "      <td>23</td>\n",
       "      <td>0.253221</td>\n",
       "      <td>2021-02-22 20:00:50.813450</td>\n",
       "      <td>2021-02-22 20:00:53.239514</td>\n",
       "      <td>00:00:02.426064</td>\n",
       "      <td>dart</td>\n",
       "      <td>0.045840</td>\n",
       "      <td>3</td>\n",
       "      <td>76</td>\n",
       "      <td>0.000100</td>\n",
       "      <td>0.001809</td>\n",
       "      <td>COMPLETE</td>\n",
       "    </tr>\n",
       "    <tr>\n",
       "      <th>24</th>\n",
       "      <td>24</td>\n",
       "      <td>3.957417</td>\n",
       "      <td>2021-02-22 20:00:53.240769</td>\n",
       "      <td>2021-02-22 20:00:55.318890</td>\n",
       "      <td>00:00:02.078121</td>\n",
       "      <td>dart</td>\n",
       "      <td>0.006403</td>\n",
       "      <td>3</td>\n",
       "      <td>81</td>\n",
       "      <td>0.000396</td>\n",
       "      <td>0.001662</td>\n",
       "      <td>COMPLETE</td>\n",
       "    </tr>\n",
       "    <tr>\n",
       "      <th>25</th>\n",
       "      <td>25</td>\n",
       "      <td>0.428659</td>\n",
       "      <td>2021-02-22 20:00:55.320402</td>\n",
       "      <td>2021-02-22 20:00:56.488469</td>\n",
       "      <td>00:00:01.168067</td>\n",
       "      <td>dart</td>\n",
       "      <td>0.055181</td>\n",
       "      <td>3</td>\n",
       "      <td>50</td>\n",
       "      <td>0.000271</td>\n",
       "      <td>0.001918</td>\n",
       "      <td>COMPLETE</td>\n",
       "    </tr>\n",
       "    <tr>\n",
       "      <th>26</th>\n",
       "      <td>26</td>\n",
       "      <td>0.944059</td>\n",
       "      <td>2021-02-22 20:00:56.490436</td>\n",
       "      <td>2021-02-22 20:00:59.631247</td>\n",
       "      <td>00:00:03.140811</td>\n",
       "      <td>dart</td>\n",
       "      <td>0.024695</td>\n",
       "      <td>3</td>\n",
       "      <td>79</td>\n",
       "      <td>0.000949</td>\n",
       "      <td>0.019139</td>\n",
       "      <td>COMPLETE</td>\n",
       "    </tr>\n",
       "    <tr>\n",
       "      <th>27</th>\n",
       "      <td>27</td>\n",
       "      <td>2.405168</td>\n",
       "      <td>2021-02-22 20:00:59.634321</td>\n",
       "      <td>2021-02-22 20:01:02.877224</td>\n",
       "      <td>00:00:03.242903</td>\n",
       "      <td>dart</td>\n",
       "      <td>0.011288</td>\n",
       "      <td>4</td>\n",
       "      <td>90</td>\n",
       "      <td>0.000101</td>\n",
       "      <td>0.000669</td>\n",
       "      <td>COMPLETE</td>\n",
       "    </tr>\n",
       "    <tr>\n",
       "      <th>28</th>\n",
       "      <td>28</td>\n",
       "      <td>0.149184</td>\n",
       "      <td>2021-02-22 20:01:02.878455</td>\n",
       "      <td>2021-02-22 20:01:04.227304</td>\n",
       "      <td>00:00:01.348849</td>\n",
       "      <td>gbtree</td>\n",
       "      <td>0.097798</td>\n",
       "      <td>3</td>\n",
       "      <td>65</td>\n",
       "      <td>0.000173</td>\n",
       "      <td>0.002806</td>\n",
       "      <td>COMPLETE</td>\n",
       "    </tr>\n",
       "    <tr>\n",
       "      <th>29</th>\n",
       "      <td>29</td>\n",
       "      <td>5.261115</td>\n",
       "      <td>2021-02-22 20:01:04.228585</td>\n",
       "      <td>2021-02-22 20:01:05.777342</td>\n",
       "      <td>00:00:01.548757</td>\n",
       "      <td>gbtree</td>\n",
       "      <td>0.004029</td>\n",
       "      <td>3</td>\n",
       "      <td>58</td>\n",
       "      <td>0.000830</td>\n",
       "      <td>0.000199</td>\n",
       "      <td>COMPLETE</td>\n",
       "    </tr>\n",
       "    <tr>\n",
       "      <th>30</th>\n",
       "      <td>30</td>\n",
       "      <td>0.063676</td>\n",
       "      <td>2021-02-22 20:01:05.778663</td>\n",
       "      <td>2021-02-22 20:01:07.632159</td>\n",
       "      <td>00:00:01.853496</td>\n",
       "      <td>gbtree</td>\n",
       "      <td>0.087736</td>\n",
       "      <td>5</td>\n",
       "      <td>76</td>\n",
       "      <td>0.000231</td>\n",
       "      <td>0.002641</td>\n",
       "      <td>COMPLETE</td>\n",
       "    </tr>\n",
       "    <tr>\n",
       "      <th>31</th>\n",
       "      <td>31</td>\n",
       "      <td>0.068285</td>\n",
       "      <td>2021-02-22 20:01:07.633484</td>\n",
       "      <td>2021-02-22 20:01:09.623927</td>\n",
       "      <td>00:00:01.990443</td>\n",
       "      <td>gbtree</td>\n",
       "      <td>0.082050</td>\n",
       "      <td>5</td>\n",
       "      <td>89</td>\n",
       "      <td>0.000256</td>\n",
       "      <td>0.002256</td>\n",
       "      <td>COMPLETE</td>\n",
       "    </tr>\n",
       "    <tr>\n",
       "      <th>32</th>\n",
       "      <td>32</td>\n",
       "      <td>0.062049</td>\n",
       "      <td>2021-02-22 20:01:09.625084</td>\n",
       "      <td>2021-02-22 20:01:12.049723</td>\n",
       "      <td>00:00:02.424639</td>\n",
       "      <td>gbtree</td>\n",
       "      <td>0.083456</td>\n",
       "      <td>5</td>\n",
       "      <td>87</td>\n",
       "      <td>0.000220</td>\n",
       "      <td>0.003367</td>\n",
       "      <td>COMPLETE</td>\n",
       "    </tr>\n",
       "    <tr>\n",
       "      <th>33</th>\n",
       "      <td>33</td>\n",
       "      <td>0.058383</td>\n",
       "      <td>2021-02-22 20:01:12.052326</td>\n",
       "      <td>2021-02-22 20:01:14.611414</td>\n",
       "      <td>00:00:02.559088</td>\n",
       "      <td>gbtree</td>\n",
       "      <td>0.094796</td>\n",
       "      <td>5</td>\n",
       "      <td>88</td>\n",
       "      <td>0.000285</td>\n",
       "      <td>0.000827</td>\n",
       "      <td>COMPLETE</td>\n",
       "    </tr>\n",
       "    <tr>\n",
       "      <th>34</th>\n",
       "      <td>34</td>\n",
       "      <td>6.568082</td>\n",
       "      <td>2021-02-22 20:01:14.613253</td>\n",
       "      <td>2021-02-22 20:01:16.578326</td>\n",
       "      <td>00:00:01.965073</td>\n",
       "      <td>gbtree</td>\n",
       "      <td>0.000124</td>\n",
       "      <td>5</td>\n",
       "      <td>90</td>\n",
       "      <td>0.000240</td>\n",
       "      <td>0.000874</td>\n",
       "      <td>COMPLETE</td>\n",
       "    </tr>\n",
       "    <tr>\n",
       "      <th>35</th>\n",
       "      <td>35</td>\n",
       "      <td>0.068469</td>\n",
       "      <td>2021-02-22 20:01:16.579585</td>\n",
       "      <td>2021-02-22 20:01:21.699569</td>\n",
       "      <td>00:00:05.119984</td>\n",
       "      <td>gbtree</td>\n",
       "      <td>0.061494</td>\n",
       "      <td>5</td>\n",
       "      <td>100</td>\n",
       "      <td>0.000773</td>\n",
       "      <td>0.000455</td>\n",
       "      <td>COMPLETE</td>\n",
       "    </tr>\n",
       "    <tr>\n",
       "      <th>36</th>\n",
       "      <td>36</td>\n",
       "      <td>0.058430</td>\n",
       "      <td>2021-02-22 20:01:21.703941</td>\n",
       "      <td>2021-02-22 20:01:25.902233</td>\n",
       "      <td>00:00:04.198292</td>\n",
       "      <td>gbtree</td>\n",
       "      <td>0.097806</td>\n",
       "      <td>5</td>\n",
       "      <td>85</td>\n",
       "      <td>0.000373</td>\n",
       "      <td>0.000249</td>\n",
       "      <td>COMPLETE</td>\n",
       "    </tr>\n",
       "    <tr>\n",
       "      <th>37</th>\n",
       "      <td>37</td>\n",
       "      <td>0.663278</td>\n",
       "      <td>2021-02-22 20:01:25.903764</td>\n",
       "      <td>2021-02-22 20:01:28.922614</td>\n",
       "      <td>00:00:03.018850</td>\n",
       "      <td>gbtree</td>\n",
       "      <td>0.028071</td>\n",
       "      <td>5</td>\n",
       "      <td>82</td>\n",
       "      <td>0.002304</td>\n",
       "      <td>0.000104</td>\n",
       "      <td>COMPLETE</td>\n",
       "    </tr>\n",
       "    <tr>\n",
       "      <th>38</th>\n",
       "      <td>38</td>\n",
       "      <td>0.057701</td>\n",
       "      <td>2021-02-22 20:01:28.925017</td>\n",
       "      <td>2021-02-22 20:01:31.523771</td>\n",
       "      <td>00:00:02.598754</td>\n",
       "      <td>gbtree</td>\n",
       "      <td>0.096970</td>\n",
       "      <td>5</td>\n",
       "      <td>95</td>\n",
       "      <td>0.000503</td>\n",
       "      <td>0.000235</td>\n",
       "      <td>COMPLETE</td>\n",
       "    </tr>\n",
       "    <tr>\n",
       "      <th>39</th>\n",
       "      <td>39</td>\n",
       "      <td>6.500639</td>\n",
       "      <td>2021-02-22 20:01:31.525363</td>\n",
       "      <td>2021-02-22 20:01:33.479368</td>\n",
       "      <td>00:00:01.954005</td>\n",
       "      <td>gbtree</td>\n",
       "      <td>0.000229</td>\n",
       "      <td>5</td>\n",
       "      <td>96</td>\n",
       "      <td>0.000543</td>\n",
       "      <td>0.000192</td>\n",
       "      <td>COMPLETE</td>\n",
       "    </tr>\n",
       "    <tr>\n",
       "      <th>40</th>\n",
       "      <td>40</td>\n",
       "      <td>0.059642</td>\n",
       "      <td>2021-02-22 20:01:33.480820</td>\n",
       "      <td>2021-02-22 20:01:36.503972</td>\n",
       "      <td>00:00:03.023152</td>\n",
       "      <td>gbtree</td>\n",
       "      <td>0.055206</td>\n",
       "      <td>6</td>\n",
       "      <td>95</td>\n",
       "      <td>0.001289</td>\n",
       "      <td>0.000238</td>\n",
       "      <td>COMPLETE</td>\n",
       "    </tr>\n",
       "    <tr>\n",
       "      <th>41</th>\n",
       "      <td>41</td>\n",
       "      <td>0.056507</td>\n",
       "      <td>2021-02-22 20:01:36.505541</td>\n",
       "      <td>2021-02-22 20:01:39.087398</td>\n",
       "      <td>00:00:02.581857</td>\n",
       "      <td>gbtree</td>\n",
       "      <td>0.059370</td>\n",
       "      <td>6</td>\n",
       "      <td>94</td>\n",
       "      <td>0.001290</td>\n",
       "      <td>0.000217</td>\n",
       "      <td>COMPLETE</td>\n",
       "    </tr>\n",
       "    <tr>\n",
       "      <th>42</th>\n",
       "      <td>42</td>\n",
       "      <td>0.048916</td>\n",
       "      <td>2021-02-22 20:01:39.089700</td>\n",
       "      <td>2021-02-22 20:01:42.237468</td>\n",
       "      <td>00:00:03.147768</td>\n",
       "      <td>gbtree</td>\n",
       "      <td>0.059341</td>\n",
       "      <td>6</td>\n",
       "      <td>97</td>\n",
       "      <td>0.001391</td>\n",
       "      <td>0.000213</td>\n",
       "      <td>COMPLETE</td>\n",
       "    </tr>\n",
       "    <tr>\n",
       "      <th>43</th>\n",
       "      <td>43</td>\n",
       "      <td>0.032366</td>\n",
       "      <td>2021-02-22 20:01:42.239665</td>\n",
       "      <td>2021-02-22 20:01:45.052360</td>\n",
       "      <td>00:00:02.812695</td>\n",
       "      <td>gbtree</td>\n",
       "      <td>0.099310</td>\n",
       "      <td>6</td>\n",
       "      <td>100</td>\n",
       "      <td>0.002003</td>\n",
       "      <td>0.000350</td>\n",
       "      <td>COMPLETE</td>\n",
       "    </tr>\n",
       "    <tr>\n",
       "      <th>44</th>\n",
       "      <td>44</td>\n",
       "      <td>0.793121</td>\n",
       "      <td>2021-02-22 20:01:45.054730</td>\n",
       "      <td>2021-02-22 20:01:47.884587</td>\n",
       "      <td>00:00:02.829857</td>\n",
       "      <td>gbtree</td>\n",
       "      <td>0.021143</td>\n",
       "      <td>6</td>\n",
       "      <td>100</td>\n",
       "      <td>0.003828</td>\n",
       "      <td>0.000132</td>\n",
       "      <td>COMPLETE</td>\n",
       "    </tr>\n",
       "    <tr>\n",
       "      <th>45</th>\n",
       "      <td>45</td>\n",
       "      <td>5.988439</td>\n",
       "      <td>2021-02-22 20:01:47.885949</td>\n",
       "      <td>2021-02-22 20:01:50.955578</td>\n",
       "      <td>00:00:03.069629</td>\n",
       "      <td>gbtree</td>\n",
       "      <td>0.001122</td>\n",
       "      <td>6</td>\n",
       "      <td>93</td>\n",
       "      <td>0.002470</td>\n",
       "      <td>0.000361</td>\n",
       "      <td>COMPLETE</td>\n",
       "    </tr>\n",
       "    <tr>\n",
       "      <th>46</th>\n",
       "      <td>46</td>\n",
       "      <td>0.067077</td>\n",
       "      <td>2021-02-22 20:01:50.957075</td>\n",
       "      <td>2021-02-22 20:01:54.155049</td>\n",
       "      <td>00:00:03.197974</td>\n",
       "      <td>gbtree</td>\n",
       "      <td>0.057202</td>\n",
       "      <td>6</td>\n",
       "      <td>93</td>\n",
       "      <td>0.001341</td>\n",
       "      <td>0.000505</td>\n",
       "      <td>COMPLETE</td>\n",
       "    </tr>\n",
       "    <tr>\n",
       "      <th>47</th>\n",
       "      <td>47</td>\n",
       "      <td>0.283751</td>\n",
       "      <td>2021-02-22 20:01:54.156409</td>\n",
       "      <td>2021-02-22 20:01:58.142392</td>\n",
       "      <td>00:00:03.985983</td>\n",
       "      <td>gbtree</td>\n",
       "      <td>0.031551</td>\n",
       "      <td>6</td>\n",
       "      <td>100</td>\n",
       "      <td>0.002077</td>\n",
       "      <td>0.000113</td>\n",
       "      <td>COMPLETE</td>\n",
       "    </tr>\n",
       "    <tr>\n",
       "      <th>48</th>\n",
       "      <td>48</td>\n",
       "      <td>0.024928</td>\n",
       "      <td>2021-02-22 20:01:58.145164</td>\n",
       "      <td>2021-02-22 20:02:00.434680</td>\n",
       "      <td>00:00:02.289516</td>\n",
       "      <td>gbtree</td>\n",
       "      <td>0.099490</td>\n",
       "      <td>6</td>\n",
       "      <td>97</td>\n",
       "      <td>0.003966</td>\n",
       "      <td>0.001008</td>\n",
       "      <td>COMPLETE</td>\n",
       "    </tr>\n",
       "    <tr>\n",
       "      <th>49</th>\n",
       "      <td>49</td>\n",
       "      <td>0.053395</td>\n",
       "      <td>2021-02-22 20:02:00.436135</td>\n",
       "      <td>2021-02-22 20:02:03.825078</td>\n",
       "      <td>00:00:03.388943</td>\n",
       "      <td>gbtree</td>\n",
       "      <td>0.067432</td>\n",
       "      <td>6</td>\n",
       "      <td>97</td>\n",
       "      <td>0.003847</td>\n",
       "      <td>0.000349</td>\n",
       "      <td>COMPLETE</td>\n",
       "    </tr>\n",
       "    <tr>\n",
       "      <th>50</th>\n",
       "      <td>50</td>\n",
       "      <td>1.964971</td>\n",
       "      <td>2021-02-22 20:02:03.827106</td>\n",
       "      <td>2021-02-22 20:02:07.057299</td>\n",
       "      <td>00:00:03.230193</td>\n",
       "      <td>gbtree</td>\n",
       "      <td>0.012390</td>\n",
       "      <td>6</td>\n",
       "      <td>98</td>\n",
       "      <td>0.015905</td>\n",
       "      <td>0.001191</td>\n",
       "      <td>COMPLETE</td>\n",
       "    </tr>\n",
       "    <tr>\n",
       "      <th>51</th>\n",
       "      <td>51</td>\n",
       "      <td>0.059434</td>\n",
       "      <td>2021-02-22 20:02:07.058934</td>\n",
       "      <td>2021-02-22 20:02:09.857792</td>\n",
       "      <td>00:00:02.798858</td>\n",
       "      <td>gbtree</td>\n",
       "      <td>0.064399</td>\n",
       "      <td>6</td>\n",
       "      <td>94</td>\n",
       "      <td>0.004037</td>\n",
       "      <td>0.000322</td>\n",
       "      <td>COMPLETE</td>\n",
       "    </tr>\n",
       "    <tr>\n",
       "      <th>52</th>\n",
       "      <td>52</td>\n",
       "      <td>0.152770</td>\n",
       "      <td>2021-02-22 20:02:09.859778</td>\n",
       "      <td>2021-02-22 20:02:13.438397</td>\n",
       "      <td>00:00:03.578619</td>\n",
       "      <td>gbtree</td>\n",
       "      <td>0.046122</td>\n",
       "      <td>6</td>\n",
       "      <td>84</td>\n",
       "      <td>0.005514</td>\n",
       "      <td>0.000170</td>\n",
       "      <td>COMPLETE</td>\n",
       "    </tr>\n",
       "    <tr>\n",
       "      <th>53</th>\n",
       "      <td>53</td>\n",
       "      <td>0.038573</td>\n",
       "      <td>2021-02-22 20:02:13.439662</td>\n",
       "      <td>2021-02-22 20:02:16.388767</td>\n",
       "      <td>00:00:02.949105</td>\n",
       "      <td>gbtree</td>\n",
       "      <td>0.069518</td>\n",
       "      <td>6</td>\n",
       "      <td>100</td>\n",
       "      <td>0.001688</td>\n",
       "      <td>0.000587</td>\n",
       "      <td>COMPLETE</td>\n",
       "    </tr>\n",
       "    <tr>\n",
       "      <th>54</th>\n",
       "      <td>54</td>\n",
       "      <td>0.216733</td>\n",
       "      <td>2021-02-22 20:02:16.390433</td>\n",
       "      <td>2021-02-22 20:02:19.334559</td>\n",
       "      <td>00:00:02.944126</td>\n",
       "      <td>gbtree</td>\n",
       "      <td>0.034641</td>\n",
       "      <td>6</td>\n",
       "      <td>100</td>\n",
       "      <td>0.003427</td>\n",
       "      <td>0.000603</td>\n",
       "      <td>COMPLETE</td>\n",
       "    </tr>\n",
       "    <tr>\n",
       "      <th>55</th>\n",
       "      <td>55</td>\n",
       "      <td>0.055104</td>\n",
       "      <td>2021-02-22 20:02:19.335779</td>\n",
       "      <td>2021-02-22 20:02:22.062896</td>\n",
       "      <td>00:00:02.727117</td>\n",
       "      <td>gbtree</td>\n",
       "      <td>0.064215</td>\n",
       "      <td>6</td>\n",
       "      <td>98</td>\n",
       "      <td>0.001710</td>\n",
       "      <td>0.000318</td>\n",
       "      <td>COMPLETE</td>\n",
       "    </tr>\n",
       "    <tr>\n",
       "      <th>56</th>\n",
       "      <td>56</td>\n",
       "      <td>0.035840</td>\n",
       "      <td>2021-02-22 20:02:22.071817</td>\n",
       "      <td>2021-02-22 20:02:25.546976</td>\n",
       "      <td>00:00:03.475159</td>\n",
       "      <td>gbtree</td>\n",
       "      <td>0.076685</td>\n",
       "      <td>6</td>\n",
       "      <td>98</td>\n",
       "      <td>0.009647</td>\n",
       "      <td>0.000324</td>\n",
       "      <td>COMPLETE</td>\n",
       "    </tr>\n",
       "    <tr>\n",
       "      <th>57</th>\n",
       "      <td>57</td>\n",
       "      <td>0.504699</td>\n",
       "      <td>2021-02-22 20:02:25.548177</td>\n",
       "      <td>2021-02-22 20:02:28.147627</td>\n",
       "      <td>00:00:02.599450</td>\n",
       "      <td>gbtree</td>\n",
       "      <td>0.025771</td>\n",
       "      <td>6</td>\n",
       "      <td>100</td>\n",
       "      <td>0.011811</td>\n",
       "      <td>0.001005</td>\n",
       "      <td>COMPLETE</td>\n",
       "    </tr>\n",
       "    <tr>\n",
       "      <th>58</th>\n",
       "      <td>58</td>\n",
       "      <td>1.103158</td>\n",
       "      <td>2021-02-22 20:02:28.149362</td>\n",
       "      <td>2021-02-22 20:02:28.751245</td>\n",
       "      <td>00:00:00.601883</td>\n",
       "      <td>gblinear</td>\n",
       "      <td>0.045607</td>\n",
       "      <td>6</td>\n",
       "      <td>91</td>\n",
       "      <td>0.035044</td>\n",
       "      <td>0.001258</td>\n",
       "      <td>COMPLETE</td>\n",
       "    </tr>\n",
       "    <tr>\n",
       "      <th>59</th>\n",
       "      <td>59</td>\n",
       "      <td>0.048055</td>\n",
       "      <td>2021-02-22 20:02:28.752676</td>\n",
       "      <td>2021-02-22 20:02:31.005781</td>\n",
       "      <td>00:00:02.253105</td>\n",
       "      <td>gbtree</td>\n",
       "      <td>0.079192</td>\n",
       "      <td>6</td>\n",
       "      <td>86</td>\n",
       "      <td>0.005712</td>\n",
       "      <td>0.000628</td>\n",
       "      <td>COMPLETE</td>\n",
       "    </tr>\n",
       "    <tr>\n",
       "      <th>60</th>\n",
       "      <td>60</td>\n",
       "      <td>1.611866</td>\n",
       "      <td>2021-02-22 20:02:31.006967</td>\n",
       "      <td>2021-02-22 20:02:32.949156</td>\n",
       "      <td>00:00:01.942189</td>\n",
       "      <td>gbtree</td>\n",
       "      <td>0.016402</td>\n",
       "      <td>6</td>\n",
       "      <td>86</td>\n",
       "      <td>0.007445</td>\n",
       "      <td>0.000660</td>\n",
       "      <td>COMPLETE</td>\n",
       "    </tr>\n",
       "    <tr>\n",
       "      <th>61</th>\n",
       "      <td>61</td>\n",
       "      <td>0.042783</td>\n",
       "      <td>2021-02-22 20:02:32.950723</td>\n",
       "      <td>2021-02-22 20:02:35.285291</td>\n",
       "      <td>00:00:02.334568</td>\n",
       "      <td>gbtree</td>\n",
       "      <td>0.072225</td>\n",
       "      <td>6</td>\n",
       "      <td>98</td>\n",
       "      <td>0.004834</td>\n",
       "      <td>0.000431</td>\n",
       "      <td>COMPLETE</td>\n",
       "    </tr>\n",
       "    <tr>\n",
       "      <th>62</th>\n",
       "      <td>62</td>\n",
       "      <td>0.038045</td>\n",
       "      <td>2021-02-22 20:02:35.286742</td>\n",
       "      <td>2021-02-22 20:02:37.935403</td>\n",
       "      <td>00:00:02.648661</td>\n",
       "      <td>gbtree</td>\n",
       "      <td>0.097615</td>\n",
       "      <td>6</td>\n",
       "      <td>92</td>\n",
       "      <td>0.012765</td>\n",
       "      <td>0.000412</td>\n",
       "      <td>COMPLETE</td>\n",
       "    </tr>\n",
       "    <tr>\n",
       "      <th>63</th>\n",
       "      <td>63</td>\n",
       "      <td>0.049474</td>\n",
       "      <td>2021-02-22 20:02:37.936851</td>\n",
       "      <td>2021-02-22 20:02:40.374324</td>\n",
       "      <td>00:00:02.437473</td>\n",
       "      <td>gbtree</td>\n",
       "      <td>0.074684</td>\n",
       "      <td>6</td>\n",
       "      <td>92</td>\n",
       "      <td>0.005366</td>\n",
       "      <td>0.000524</td>\n",
       "      <td>COMPLETE</td>\n",
       "    </tr>\n",
       "    <tr>\n",
       "      <th>64</th>\n",
       "      <td>64</td>\n",
       "      <td>0.029593</td>\n",
       "      <td>2021-02-22 20:02:40.375944</td>\n",
       "      <td>2021-02-22 20:02:43.059044</td>\n",
       "      <td>00:00:02.683100</td>\n",
       "      <td>gbtree</td>\n",
       "      <td>0.096250</td>\n",
       "      <td>6</td>\n",
       "      <td>100</td>\n",
       "      <td>0.019148</td>\n",
       "      <td>0.000140</td>\n",
       "      <td>COMPLETE</td>\n",
       "    </tr>\n",
       "    <tr>\n",
       "      <th>65</th>\n",
       "      <td>65</td>\n",
       "      <td>0.028185</td>\n",
       "      <td>2021-02-22 20:02:43.060762</td>\n",
       "      <td>2021-02-22 20:02:45.700239</td>\n",
       "      <td>00:00:02.639477</td>\n",
       "      <td>gbtree</td>\n",
       "      <td>0.099897</td>\n",
       "      <td>6</td>\n",
       "      <td>100</td>\n",
       "      <td>0.018515</td>\n",
       "      <td>0.000132</td>\n",
       "      <td>COMPLETE</td>\n",
       "    </tr>\n",
       "    <tr>\n",
       "      <th>66</th>\n",
       "      <td>66</td>\n",
       "      <td>0.159367</td>\n",
       "      <td>2021-02-22 20:02:45.701765</td>\n",
       "      <td>2021-02-22 20:02:48.393364</td>\n",
       "      <td>00:00:02.691599</td>\n",
       "      <td>gbtree</td>\n",
       "      <td>0.038248</td>\n",
       "      <td>6</td>\n",
       "      <td>100</td>\n",
       "      <td>0.018923</td>\n",
       "      <td>0.000140</td>\n",
       "      <td>COMPLETE</td>\n",
       "    </tr>\n",
       "    <tr>\n",
       "      <th>67</th>\n",
       "      <td>67</td>\n",
       "      <td>0.028581</td>\n",
       "      <td>2021-02-22 20:02:48.394739</td>\n",
       "      <td>2021-02-22 20:02:50.655622</td>\n",
       "      <td>00:00:02.260883</td>\n",
       "      <td>gbtree</td>\n",
       "      <td>0.093357</td>\n",
       "      <td>6</td>\n",
       "      <td>91</td>\n",
       "      <td>0.023329</td>\n",
       "      <td>0.000162</td>\n",
       "      <td>COMPLETE</td>\n",
       "    </tr>\n",
       "    <tr>\n",
       "      <th>68</th>\n",
       "      <td>68</td>\n",
       "      <td>0.642101</td>\n",
       "      <td>2021-02-22 20:02:50.657800</td>\n",
       "      <td>2021-02-22 20:02:51.208351</td>\n",
       "      <td>00:00:00.550551</td>\n",
       "      <td>gblinear</td>\n",
       "      <td>0.092810</td>\n",
       "      <td>6</td>\n",
       "      <td>79</td>\n",
       "      <td>0.026923</td>\n",
       "      <td>0.000144</td>\n",
       "      <td>COMPLETE</td>\n",
       "    </tr>\n",
       "    <tr>\n",
       "      <th>69</th>\n",
       "      <td>69</td>\n",
       "      <td>0.112025</td>\n",
       "      <td>2021-02-22 20:02:51.209747</td>\n",
       "      <td>2021-02-22 20:02:54.156678</td>\n",
       "      <td>00:00:02.946931</td>\n",
       "      <td>gbtree</td>\n",
       "      <td>0.048113</td>\n",
       "      <td>6</td>\n",
       "      <td>91</td>\n",
       "      <td>0.061746</td>\n",
       "      <td>0.000294</td>\n",
       "      <td>COMPLETE</td>\n",
       "    </tr>\n",
       "    <tr>\n",
       "      <th>70</th>\n",
       "      <td>70</td>\n",
       "      <td>0.137760</td>\n",
       "      <td>2021-02-22 20:02:54.158311</td>\n",
       "      <td>2021-02-22 20:02:55.720557</td>\n",
       "      <td>00:00:01.562246</td>\n",
       "      <td>gbtree</td>\n",
       "      <td>0.099740</td>\n",
       "      <td>6</td>\n",
       "      <td>39</td>\n",
       "      <td>0.077158</td>\n",
       "      <td>0.000108</td>\n",
       "      <td>COMPLETE</td>\n",
       "    </tr>\n",
       "    <tr>\n",
       "      <th>71</th>\n",
       "      <td>71</td>\n",
       "      <td>0.050402</td>\n",
       "      <td>2021-02-22 20:02:55.721901</td>\n",
       "      <td>2021-02-22 20:02:59.033234</td>\n",
       "      <td>00:00:03.311333</td>\n",
       "      <td>gbtree</td>\n",
       "      <td>0.079382</td>\n",
       "      <td>6</td>\n",
       "      <td>95</td>\n",
       "      <td>0.009979</td>\n",
       "      <td>0.000162</td>\n",
       "      <td>COMPLETE</td>\n",
       "    </tr>\n",
       "    <tr>\n",
       "      <th>72</th>\n",
       "      <td>72</td>\n",
       "      <td>0.032836</td>\n",
       "      <td>2021-02-22 20:02:59.035012</td>\n",
       "      <td>2021-02-22 20:03:01.461025</td>\n",
       "      <td>00:00:02.426013</td>\n",
       "      <td>gbtree</td>\n",
       "      <td>0.097133</td>\n",
       "      <td>6</td>\n",
       "      <td>89</td>\n",
       "      <td>0.020033</td>\n",
       "      <td>0.000425</td>\n",
       "      <td>COMPLETE</td>\n",
       "    </tr>\n",
       "    <tr>\n",
       "      <th>73</th>\n",
       "      <td>73</td>\n",
       "      <td>0.091369</td>\n",
       "      <td>2021-02-22 20:03:01.462688</td>\n",
       "      <td>2021-02-22 20:03:04.091381</td>\n",
       "      <td>00:00:02.628693</td>\n",
       "      <td>gbtree</td>\n",
       "      <td>0.051283</td>\n",
       "      <td>6</td>\n",
       "      <td>88</td>\n",
       "      <td>0.017685</td>\n",
       "      <td>0.000420</td>\n",
       "      <td>COMPLETE</td>\n",
       "    </tr>\n",
       "    <tr>\n",
       "      <th>74</th>\n",
       "      <td>74</td>\n",
       "      <td>0.044417</td>\n",
       "      <td>2021-02-22 20:03:04.092801</td>\n",
       "      <td>2021-02-22 20:03:06.006804</td>\n",
       "      <td>00:00:01.914003</td>\n",
       "      <td>gbtree</td>\n",
       "      <td>0.088609</td>\n",
       "      <td>6</td>\n",
       "      <td>84</td>\n",
       "      <td>0.024953</td>\n",
       "      <td>0.000275</td>\n",
       "      <td>COMPLETE</td>\n",
       "    </tr>\n",
       "    <tr>\n",
       "      <th>75</th>\n",
       "      <td>75</td>\n",
       "      <td>0.031419</td>\n",
       "      <td>2021-02-22 20:03:06.008660</td>\n",
       "      <td>2021-02-22 20:03:08.396791</td>\n",
       "      <td>00:00:02.388131</td>\n",
       "      <td>gbtree</td>\n",
       "      <td>0.099667</td>\n",
       "      <td>6</td>\n",
       "      <td>91</td>\n",
       "      <td>0.013133</td>\n",
       "      <td>0.000778</td>\n",
       "      <td>COMPLETE</td>\n",
       "    </tr>\n",
       "    <tr>\n",
       "      <th>76</th>\n",
       "      <td>76</td>\n",
       "      <td>0.035876</td>\n",
       "      <td>2021-02-22 20:03:08.398496</td>\n",
       "      <td>2021-02-22 20:03:10.504720</td>\n",
       "      <td>00:00:02.106224</td>\n",
       "      <td>gbtree</td>\n",
       "      <td>0.099157</td>\n",
       "      <td>6</td>\n",
       "      <td>81</td>\n",
       "      <td>0.042591</td>\n",
       "      <td>0.000106</td>\n",
       "      <td>COMPLETE</td>\n",
       "    </tr>\n",
       "    <tr>\n",
       "      <th>77</th>\n",
       "      <td>77</td>\n",
       "      <td>5.416136</td>\n",
       "      <td>2021-02-22 20:03:10.506219</td>\n",
       "      <td>2021-02-22 20:03:12.492707</td>\n",
       "      <td>00:00:01.986488</td>\n",
       "      <td>gbtree</td>\n",
       "      <td>0.002268</td>\n",
       "      <td>6</td>\n",
       "      <td>90</td>\n",
       "      <td>0.007580</td>\n",
       "      <td>0.001395</td>\n",
       "      <td>COMPLETE</td>\n",
       "    </tr>\n",
       "    <tr>\n",
       "      <th>78</th>\n",
       "      <td>78</td>\n",
       "      <td>0.033866</td>\n",
       "      <td>2021-02-22 20:03:12.493922</td>\n",
       "      <td>2021-02-22 20:03:14.669006</td>\n",
       "      <td>00:00:02.175084</td>\n",
       "      <td>gbtree</td>\n",
       "      <td>0.099740</td>\n",
       "      <td>6</td>\n",
       "      <td>97</td>\n",
       "      <td>0.022529</td>\n",
       "      <td>0.000779</td>\n",
       "      <td>COMPLETE</td>\n",
       "    </tr>\n",
       "    <tr>\n",
       "      <th>79</th>\n",
       "      <td>79</td>\n",
       "      <td>0.270684</td>\n",
       "      <td>2021-02-22 20:03:14.670346</td>\n",
       "      <td>2021-02-22 20:03:17.624048</td>\n",
       "      <td>00:00:02.953702</td>\n",
       "      <td>gbtree</td>\n",
       "      <td>0.036717</td>\n",
       "      <td>6</td>\n",
       "      <td>88</td>\n",
       "      <td>0.022650</td>\n",
       "      <td>0.000838</td>\n",
       "      <td>COMPLETE</td>\n",
       "    </tr>\n",
       "    <tr>\n",
       "      <th>80</th>\n",
       "      <td>80</td>\n",
       "      <td>0.067791</td>\n",
       "      <td>2021-02-22 20:03:17.635767</td>\n",
       "      <td>2021-02-22 20:03:19.979637</td>\n",
       "      <td>00:00:02.343870</td>\n",
       "      <td>gbtree</td>\n",
       "      <td>0.052538</td>\n",
       "      <td>6</td>\n",
       "      <td>96</td>\n",
       "      <td>0.013931</td>\n",
       "      <td>0.006786</td>\n",
       "      <td>COMPLETE</td>\n",
       "    </tr>\n",
       "    <tr>\n",
       "      <th>81</th>\n",
       "      <td>81</td>\n",
       "      <td>0.038376</td>\n",
       "      <td>2021-02-22 20:03:19.981072</td>\n",
       "      <td>2021-02-22 20:03:22.462871</td>\n",
       "      <td>00:00:02.481799</td>\n",
       "      <td>gbtree</td>\n",
       "      <td>0.075098</td>\n",
       "      <td>6</td>\n",
       "      <td>96</td>\n",
       "      <td>0.009373</td>\n",
       "      <td>0.000749</td>\n",
       "      <td>COMPLETE</td>\n",
       "    </tr>\n",
       "    <tr>\n",
       "      <th>82</th>\n",
       "      <td>82</td>\n",
       "      <td>0.037598</td>\n",
       "      <td>2021-02-22 20:03:22.464627</td>\n",
       "      <td>2021-02-22 20:03:25.531892</td>\n",
       "      <td>00:00:03.067265</td>\n",
       "      <td>gbtree</td>\n",
       "      <td>0.099660</td>\n",
       "      <td>6</td>\n",
       "      <td>98</td>\n",
       "      <td>0.035052</td>\n",
       "      <td>0.000178</td>\n",
       "      <td>COMPLETE</td>\n",
       "    </tr>\n",
       "    <tr>\n",
       "      <th>83</th>\n",
       "      <td>83</td>\n",
       "      <td>0.037962</td>\n",
       "      <td>2021-02-22 20:03:25.533292</td>\n",
       "      <td>2021-02-22 20:03:27.931276</td>\n",
       "      <td>00:00:02.397984</td>\n",
       "      <td>gbtree</td>\n",
       "      <td>0.082476</td>\n",
       "      <td>6</td>\n",
       "      <td>93</td>\n",
       "      <td>0.020793</td>\n",
       "      <td>0.001554</td>\n",
       "      <td>COMPLETE</td>\n",
       "    </tr>\n",
       "    <tr>\n",
       "      <th>84</th>\n",
       "      <td>84</td>\n",
       "      <td>0.060607</td>\n",
       "      <td>2021-02-22 20:03:27.932675</td>\n",
       "      <td>2021-02-22 20:03:29.921860</td>\n",
       "      <td>00:00:01.989185</td>\n",
       "      <td>gbtree</td>\n",
       "      <td>0.065576</td>\n",
       "      <td>6</td>\n",
       "      <td>90</td>\n",
       "      <td>0.059045</td>\n",
       "      <td>0.001015</td>\n",
       "      <td>COMPLETE</td>\n",
       "    </tr>\n",
       "    <tr>\n",
       "      <th>85</th>\n",
       "      <td>85</td>\n",
       "      <td>0.038412</td>\n",
       "      <td>2021-02-22 20:03:29.923200</td>\n",
       "      <td>2021-02-22 20:03:32.013717</td>\n",
       "      <td>00:00:02.090517</td>\n",
       "      <td>gbtree</td>\n",
       "      <td>0.083230</td>\n",
       "      <td>6</td>\n",
       "      <td>94</td>\n",
       "      <td>0.031310</td>\n",
       "      <td>0.000254</td>\n",
       "      <td>COMPLETE</td>\n",
       "    </tr>\n",
       "    <tr>\n",
       "      <th>86</th>\n",
       "      <td>86</td>\n",
       "      <td>4.493893</td>\n",
       "      <td>2021-02-22 20:03:32.014909</td>\n",
       "      <td>2021-02-22 20:03:34.255997</td>\n",
       "      <td>00:00:02.241088</td>\n",
       "      <td>gbtree</td>\n",
       "      <td>0.003917</td>\n",
       "      <td>6</td>\n",
       "      <td>100</td>\n",
       "      <td>0.045681</td>\n",
       "      <td>0.000379</td>\n",
       "      <td>COMPLETE</td>\n",
       "    </tr>\n",
       "    <tr>\n",
       "      <th>87</th>\n",
       "      <td>87</td>\n",
       "      <td>0.125247</td>\n",
       "      <td>2021-02-22 20:03:34.257483</td>\n",
       "      <td>2021-02-22 20:03:36.603799</td>\n",
       "      <td>00:00:02.346316</td>\n",
       "      <td>gbtree</td>\n",
       "      <td>0.041819</td>\n",
       "      <td>6</td>\n",
       "      <td>98</td>\n",
       "      <td>0.015191</td>\n",
       "      <td>0.000141</td>\n",
       "      <td>COMPLETE</td>\n",
       "    </tr>\n",
       "    <tr>\n",
       "      <th>88</th>\n",
       "      <td>88</td>\n",
       "      <td>5.544382</td>\n",
       "      <td>2021-02-22 20:03:36.605064</td>\n",
       "      <td>2021-02-22 20:03:37.133267</td>\n",
       "      <td>00:00:00.528203</td>\n",
       "      <td>gblinear</td>\n",
       "      <td>0.000752</td>\n",
       "      <td>6</td>\n",
       "      <td>82</td>\n",
       "      <td>0.002775</td>\n",
       "      <td>0.000288</td>\n",
       "      <td>COMPLETE</td>\n",
       "    </tr>\n",
       "    <tr>\n",
       "      <th>89</th>\n",
       "      <td>89</td>\n",
       "      <td>6.444547</td>\n",
       "      <td>2021-02-22 20:03:37.134502</td>\n",
       "      <td>2021-02-22 20:03:39.714721</td>\n",
       "      <td>00:00:02.580219</td>\n",
       "      <td>gbtree</td>\n",
       "      <td>0.000317</td>\n",
       "      <td>6</td>\n",
       "      <td>96</td>\n",
       "      <td>0.007622</td>\n",
       "      <td>0.000510</td>\n",
       "      <td>COMPLETE</td>\n",
       "    </tr>\n",
       "    <tr>\n",
       "      <th>90</th>\n",
       "      <td>90</td>\n",
       "      <td>0.082923</td>\n",
       "      <td>2021-02-22 20:03:39.716158</td>\n",
       "      <td>2021-02-22 20:03:42.118356</td>\n",
       "      <td>00:00:02.402198</td>\n",
       "      <td>gbtree</td>\n",
       "      <td>0.054917</td>\n",
       "      <td>6</td>\n",
       "      <td>88</td>\n",
       "      <td>0.011100</td>\n",
       "      <td>0.033490</td>\n",
       "      <td>COMPLETE</td>\n",
       "    </tr>\n",
       "    <tr>\n",
       "      <th>91</th>\n",
       "      <td>91</td>\n",
       "      <td>0.033897</td>\n",
       "      <td>2021-02-22 20:03:42.120063</td>\n",
       "      <td>2021-02-22 20:03:44.270199</td>\n",
       "      <td>00:00:02.150136</td>\n",
       "      <td>gbtree</td>\n",
       "      <td>0.099799</td>\n",
       "      <td>6</td>\n",
       "      <td>92</td>\n",
       "      <td>0.048861</td>\n",
       "      <td>0.000100</td>\n",
       "      <td>COMPLETE</td>\n",
       "    </tr>\n",
       "    <tr>\n",
       "      <th>92</th>\n",
       "      <td>92</td>\n",
       "      <td>0.039621</td>\n",
       "      <td>2021-02-22 20:03:44.271498</td>\n",
       "      <td>2021-02-22 20:03:46.412316</td>\n",
       "      <td>00:00:02.140818</td>\n",
       "      <td>gbtree</td>\n",
       "      <td>0.097468</td>\n",
       "      <td>6</td>\n",
       "      <td>92</td>\n",
       "      <td>0.173983</td>\n",
       "      <td>0.000187</td>\n",
       "      <td>COMPLETE</td>\n",
       "    </tr>\n",
       "    <tr>\n",
       "      <th>93</th>\n",
       "      <td>93</td>\n",
       "      <td>0.031740</td>\n",
       "      <td>2021-02-22 20:03:46.413571</td>\n",
       "      <td>2021-02-22 20:03:48.719222</td>\n",
       "      <td>00:00:02.305651</td>\n",
       "      <td>gbtree</td>\n",
       "      <td>0.099422</td>\n",
       "      <td>6</td>\n",
       "      <td>94</td>\n",
       "      <td>0.020701</td>\n",
       "      <td>0.000100</td>\n",
       "      <td>COMPLETE</td>\n",
       "    </tr>\n",
       "    <tr>\n",
       "      <th>94</th>\n",
       "      <td>94</td>\n",
       "      <td>0.031234</td>\n",
       "      <td>2021-02-22 20:03:48.720550</td>\n",
       "      <td>2021-02-22 20:03:50.652455</td>\n",
       "      <td>00:00:01.931905</td>\n",
       "      <td>gbtree</td>\n",
       "      <td>0.098493</td>\n",
       "      <td>6</td>\n",
       "      <td>84</td>\n",
       "      <td>0.041501</td>\n",
       "      <td>0.000128</td>\n",
       "      <td>COMPLETE</td>\n",
       "    </tr>\n",
       "    <tr>\n",
       "      <th>95</th>\n",
       "      <td>95</td>\n",
       "      <td>0.077783</td>\n",
       "      <td>2021-02-22 20:03:50.654134</td>\n",
       "      <td>2021-02-22 20:03:53.103963</td>\n",
       "      <td>00:00:02.449829</td>\n",
       "      <td>gbtree</td>\n",
       "      <td>0.064480</td>\n",
       "      <td>6</td>\n",
       "      <td>77</td>\n",
       "      <td>0.080559</td>\n",
       "      <td>0.000124</td>\n",
       "      <td>COMPLETE</td>\n",
       "    </tr>\n",
       "    <tr>\n",
       "      <th>96</th>\n",
       "      <td>96</td>\n",
       "      <td>0.044601</td>\n",
       "      <td>2021-02-22 20:03:53.105249</td>\n",
       "      <td>2021-02-22 20:03:55.227362</td>\n",
       "      <td>00:00:02.122113</td>\n",
       "      <td>gbtree</td>\n",
       "      <td>0.083145</td>\n",
       "      <td>6</td>\n",
       "      <td>84</td>\n",
       "      <td>0.020494</td>\n",
       "      <td>0.000217</td>\n",
       "      <td>COMPLETE</td>\n",
       "    </tr>\n",
       "    <tr>\n",
       "      <th>97</th>\n",
       "      <td>97</td>\n",
       "      <td>0.030877</td>\n",
       "      <td>2021-02-22 20:03:55.228837</td>\n",
       "      <td>2021-02-22 20:03:57.336468</td>\n",
       "      <td>00:00:02.107631</td>\n",
       "      <td>gbtree</td>\n",
       "      <td>0.099708</td>\n",
       "      <td>6</td>\n",
       "      <td>87</td>\n",
       "      <td>0.026057</td>\n",
       "      <td>0.000160</td>\n",
       "      <td>COMPLETE</td>\n",
       "    </tr>\n",
       "    <tr>\n",
       "      <th>98</th>\n",
       "      <td>98</td>\n",
       "      <td>0.067167</td>\n",
       "      <td>2021-02-22 20:03:57.337920</td>\n",
       "      <td>2021-02-22 20:03:59.150665</td>\n",
       "      <td>00:00:01.812745</td>\n",
       "      <td>gbtree</td>\n",
       "      <td>0.069213</td>\n",
       "      <td>6</td>\n",
       "      <td>74</td>\n",
       "      <td>0.029661</td>\n",
       "      <td>0.000158</td>\n",
       "      <td>COMPLETE</td>\n",
       "    </tr>\n",
       "    <tr>\n",
       "      <th>99</th>\n",
       "      <td>99</td>\n",
       "      <td>0.065935</td>\n",
       "      <td>2021-02-22 20:03:59.152327</td>\n",
       "      <td>2021-02-22 20:04:01.449840</td>\n",
       "      <td>00:00:02.297513</td>\n",
       "      <td>gbtree</td>\n",
       "      <td>0.060052</td>\n",
       "      <td>6</td>\n",
       "      <td>86</td>\n",
       "      <td>0.036279</td>\n",
       "      <td>0.000121</td>\n",
       "      <td>COMPLETE</td>\n",
       "    </tr>\n",
       "  </tbody>\n",
       "</table>\n",
       "</div>"
      ],
      "text/plain": [
       "    number     value             datetime_start          datetime_complete  \\\n",
       "0        0  4.000813 2021-02-22 20:00:22.757842 2021-02-22 20:00:25.407893   \n",
       "1        1  5.048814 2021-02-22 20:00:25.409359 2021-02-22 20:00:25.837278   \n",
       "2        2  6.535824 2021-02-22 20:00:25.838552 2021-02-22 20:00:26.753357   \n",
       "3        3  6.185057 2021-02-22 20:00:26.754845 2021-02-22 20:00:28.329767   \n",
       "4        4  6.360814 2021-02-22 20:00:28.330894 2021-02-22 20:00:30.677013   \n",
       "5        5  5.534666 2021-02-22 20:00:30.679339 2021-02-22 20:00:31.998000   \n",
       "6        6  0.946726 2021-02-22 20:00:31.999302 2021-02-22 20:00:32.705596   \n",
       "7        7  6.072048 2021-02-22 20:00:32.706941 2021-02-22 20:00:32.987784   \n",
       "8        8  6.646257 2021-02-22 20:00:32.989139 2021-02-22 20:00:33.257497   \n",
       "9        9  6.519010 2021-02-22 20:00:33.258690 2021-02-22 20:00:33.423788   \n",
       "10      10  1.343057 2021-02-22 20:00:33.425088 2021-02-22 20:00:33.613032   \n",
       "11      11  1.309403 2021-02-22 20:00:33.614429 2021-02-22 20:00:33.832673   \n",
       "12      12  1.572265 2021-02-22 20:00:33.834451 2021-02-22 20:00:34.029520   \n",
       "13      13  2.406190 2021-02-22 20:00:34.030808 2021-02-22 20:00:34.279743   \n",
       "14      14  2.537261 2021-02-22 20:00:34.281026 2021-02-22 20:00:34.451097   \n",
       "15      15  2.782348 2021-02-22 20:00:34.452606 2021-02-22 20:00:35.087721   \n",
       "16      16  4.527157 2021-02-22 20:00:35.092410 2021-02-22 20:00:36.002530   \n",
       "17      17  0.139034 2021-02-22 20:00:36.003772 2021-02-22 20:00:38.774983   \n",
       "18      18  2.761165 2021-02-22 20:00:38.776300 2021-02-22 20:00:41.466151   \n",
       "19      19  0.517308 2021-02-22 20:00:41.467635 2021-02-22 20:00:43.079215   \n",
       "20      20  0.354817 2021-02-22 20:00:43.080667 2021-02-22 20:00:45.161009   \n",
       "21      21  0.446768 2021-02-22 20:00:45.162343 2021-02-22 20:00:48.342992   \n",
       "22      22  1.660378 2021-02-22 20:00:48.344513 2021-02-22 20:00:50.811587   \n",
       "23      23  0.253221 2021-02-22 20:00:50.813450 2021-02-22 20:00:53.239514   \n",
       "24      24  3.957417 2021-02-22 20:00:53.240769 2021-02-22 20:00:55.318890   \n",
       "25      25  0.428659 2021-02-22 20:00:55.320402 2021-02-22 20:00:56.488469   \n",
       "26      26  0.944059 2021-02-22 20:00:56.490436 2021-02-22 20:00:59.631247   \n",
       "27      27  2.405168 2021-02-22 20:00:59.634321 2021-02-22 20:01:02.877224   \n",
       "28      28  0.149184 2021-02-22 20:01:02.878455 2021-02-22 20:01:04.227304   \n",
       "29      29  5.261115 2021-02-22 20:01:04.228585 2021-02-22 20:01:05.777342   \n",
       "30      30  0.063676 2021-02-22 20:01:05.778663 2021-02-22 20:01:07.632159   \n",
       "31      31  0.068285 2021-02-22 20:01:07.633484 2021-02-22 20:01:09.623927   \n",
       "32      32  0.062049 2021-02-22 20:01:09.625084 2021-02-22 20:01:12.049723   \n",
       "33      33  0.058383 2021-02-22 20:01:12.052326 2021-02-22 20:01:14.611414   \n",
       "34      34  6.568082 2021-02-22 20:01:14.613253 2021-02-22 20:01:16.578326   \n",
       "35      35  0.068469 2021-02-22 20:01:16.579585 2021-02-22 20:01:21.699569   \n",
       "36      36  0.058430 2021-02-22 20:01:21.703941 2021-02-22 20:01:25.902233   \n",
       "37      37  0.663278 2021-02-22 20:01:25.903764 2021-02-22 20:01:28.922614   \n",
       "38      38  0.057701 2021-02-22 20:01:28.925017 2021-02-22 20:01:31.523771   \n",
       "39      39  6.500639 2021-02-22 20:01:31.525363 2021-02-22 20:01:33.479368   \n",
       "40      40  0.059642 2021-02-22 20:01:33.480820 2021-02-22 20:01:36.503972   \n",
       "41      41  0.056507 2021-02-22 20:01:36.505541 2021-02-22 20:01:39.087398   \n",
       "42      42  0.048916 2021-02-22 20:01:39.089700 2021-02-22 20:01:42.237468   \n",
       "43      43  0.032366 2021-02-22 20:01:42.239665 2021-02-22 20:01:45.052360   \n",
       "44      44  0.793121 2021-02-22 20:01:45.054730 2021-02-22 20:01:47.884587   \n",
       "45      45  5.988439 2021-02-22 20:01:47.885949 2021-02-22 20:01:50.955578   \n",
       "46      46  0.067077 2021-02-22 20:01:50.957075 2021-02-22 20:01:54.155049   \n",
       "47      47  0.283751 2021-02-22 20:01:54.156409 2021-02-22 20:01:58.142392   \n",
       "48      48  0.024928 2021-02-22 20:01:58.145164 2021-02-22 20:02:00.434680   \n",
       "49      49  0.053395 2021-02-22 20:02:00.436135 2021-02-22 20:02:03.825078   \n",
       "50      50  1.964971 2021-02-22 20:02:03.827106 2021-02-22 20:02:07.057299   \n",
       "51      51  0.059434 2021-02-22 20:02:07.058934 2021-02-22 20:02:09.857792   \n",
       "52      52  0.152770 2021-02-22 20:02:09.859778 2021-02-22 20:02:13.438397   \n",
       "53      53  0.038573 2021-02-22 20:02:13.439662 2021-02-22 20:02:16.388767   \n",
       "54      54  0.216733 2021-02-22 20:02:16.390433 2021-02-22 20:02:19.334559   \n",
       "55      55  0.055104 2021-02-22 20:02:19.335779 2021-02-22 20:02:22.062896   \n",
       "56      56  0.035840 2021-02-22 20:02:22.071817 2021-02-22 20:02:25.546976   \n",
       "57      57  0.504699 2021-02-22 20:02:25.548177 2021-02-22 20:02:28.147627   \n",
       "58      58  1.103158 2021-02-22 20:02:28.149362 2021-02-22 20:02:28.751245   \n",
       "59      59  0.048055 2021-02-22 20:02:28.752676 2021-02-22 20:02:31.005781   \n",
       "60      60  1.611866 2021-02-22 20:02:31.006967 2021-02-22 20:02:32.949156   \n",
       "61      61  0.042783 2021-02-22 20:02:32.950723 2021-02-22 20:02:35.285291   \n",
       "62      62  0.038045 2021-02-22 20:02:35.286742 2021-02-22 20:02:37.935403   \n",
       "63      63  0.049474 2021-02-22 20:02:37.936851 2021-02-22 20:02:40.374324   \n",
       "64      64  0.029593 2021-02-22 20:02:40.375944 2021-02-22 20:02:43.059044   \n",
       "65      65  0.028185 2021-02-22 20:02:43.060762 2021-02-22 20:02:45.700239   \n",
       "66      66  0.159367 2021-02-22 20:02:45.701765 2021-02-22 20:02:48.393364   \n",
       "67      67  0.028581 2021-02-22 20:02:48.394739 2021-02-22 20:02:50.655622   \n",
       "68      68  0.642101 2021-02-22 20:02:50.657800 2021-02-22 20:02:51.208351   \n",
       "69      69  0.112025 2021-02-22 20:02:51.209747 2021-02-22 20:02:54.156678   \n",
       "70      70  0.137760 2021-02-22 20:02:54.158311 2021-02-22 20:02:55.720557   \n",
       "71      71  0.050402 2021-02-22 20:02:55.721901 2021-02-22 20:02:59.033234   \n",
       "72      72  0.032836 2021-02-22 20:02:59.035012 2021-02-22 20:03:01.461025   \n",
       "73      73  0.091369 2021-02-22 20:03:01.462688 2021-02-22 20:03:04.091381   \n",
       "74      74  0.044417 2021-02-22 20:03:04.092801 2021-02-22 20:03:06.006804   \n",
       "75      75  0.031419 2021-02-22 20:03:06.008660 2021-02-22 20:03:08.396791   \n",
       "76      76  0.035876 2021-02-22 20:03:08.398496 2021-02-22 20:03:10.504720   \n",
       "77      77  5.416136 2021-02-22 20:03:10.506219 2021-02-22 20:03:12.492707   \n",
       "78      78  0.033866 2021-02-22 20:03:12.493922 2021-02-22 20:03:14.669006   \n",
       "79      79  0.270684 2021-02-22 20:03:14.670346 2021-02-22 20:03:17.624048   \n",
       "80      80  0.067791 2021-02-22 20:03:17.635767 2021-02-22 20:03:19.979637   \n",
       "81      81  0.038376 2021-02-22 20:03:19.981072 2021-02-22 20:03:22.462871   \n",
       "82      82  0.037598 2021-02-22 20:03:22.464627 2021-02-22 20:03:25.531892   \n",
       "83      83  0.037962 2021-02-22 20:03:25.533292 2021-02-22 20:03:27.931276   \n",
       "84      84  0.060607 2021-02-22 20:03:27.932675 2021-02-22 20:03:29.921860   \n",
       "85      85  0.038412 2021-02-22 20:03:29.923200 2021-02-22 20:03:32.013717   \n",
       "86      86  4.493893 2021-02-22 20:03:32.014909 2021-02-22 20:03:34.255997   \n",
       "87      87  0.125247 2021-02-22 20:03:34.257483 2021-02-22 20:03:36.603799   \n",
       "88      88  5.544382 2021-02-22 20:03:36.605064 2021-02-22 20:03:37.133267   \n",
       "89      89  6.444547 2021-02-22 20:03:37.134502 2021-02-22 20:03:39.714721   \n",
       "90      90  0.082923 2021-02-22 20:03:39.716158 2021-02-22 20:03:42.118356   \n",
       "91      91  0.033897 2021-02-22 20:03:42.120063 2021-02-22 20:03:44.270199   \n",
       "92      92  0.039621 2021-02-22 20:03:44.271498 2021-02-22 20:03:46.412316   \n",
       "93      93  0.031740 2021-02-22 20:03:46.413571 2021-02-22 20:03:48.719222   \n",
       "94      94  0.031234 2021-02-22 20:03:48.720550 2021-02-22 20:03:50.652455   \n",
       "95      95  0.077783 2021-02-22 20:03:50.654134 2021-02-22 20:03:53.103963   \n",
       "96      96  0.044601 2021-02-22 20:03:53.105249 2021-02-22 20:03:55.227362   \n",
       "97      97  0.030877 2021-02-22 20:03:55.228837 2021-02-22 20:03:57.336468   \n",
       "98      98  0.067167 2021-02-22 20:03:57.337920 2021-02-22 20:03:59.150665   \n",
       "99      99  0.065935 2021-02-22 20:03:59.152327 2021-02-22 20:04:01.449840   \n",
       "\n",
       "          duration params_booster  params_learning_rste  params_max_depth  \\\n",
       "0  00:00:02.650051           dart              0.006251                 5   \n",
       "1  00:00:00.427919       gblinear              0.001003                 6   \n",
       "2  00:00:00.914805           dart              0.000434                 6   \n",
       "3  00:00:01.574922         gbtree              0.000748                 5   \n",
       "4  00:00:02.346119           dart              0.000499                 4   \n",
       "5  00:00:01.318661           dart              0.002514                 3   \n",
       "6  00:00:00.706294           dart              0.070252                 6   \n",
       "7  00:00:00.280843       gblinear              0.000493                 6   \n",
       "8  00:00:00.268358           dart              0.000127                 4   \n",
       "9  00:00:00.165098         gbtree              0.001886                 4   \n",
       "10 00:00:00.187944       gblinear              0.089468                 5   \n",
       "11 00:00:00.218244       gblinear              0.092093                 5   \n",
       "12 00:00:00.195069       gblinear              0.075292                 6   \n",
       "13 00:00:00.248935       gblinear              0.018484                 5   \n",
       "14 00:00:00.170071       gblinear              0.031573                 6   \n",
       "15 00:00:00.635115         gbtree              0.035648                 5   \n",
       "16 00:00:00.910120           dart              0.008155                 3   \n",
       "17 00:00:02.771211           dart              0.073155                 5   \n",
       "18 00:00:02.689851           dart              0.014075                 6   \n",
       "19 00:00:01.611580           dart              0.044407                 4   \n",
       "20 00:00:02.080342           dart              0.042861                 4   \n",
       "21 00:00:03.180649           dart              0.039764                 4   \n",
       "22 00:00:02.467074           dart              0.019147                 4   \n",
       "23 00:00:02.426064           dart              0.045840                 3   \n",
       "24 00:00:02.078121           dart              0.006403                 3   \n",
       "25 00:00:01.168067           dart              0.055181                 3   \n",
       "26 00:00:03.140811           dart              0.024695                 3   \n",
       "27 00:00:03.242903           dart              0.011288                 4   \n",
       "28 00:00:01.348849         gbtree              0.097798                 3   \n",
       "29 00:00:01.548757         gbtree              0.004029                 3   \n",
       "30 00:00:01.853496         gbtree              0.087736                 5   \n",
       "31 00:00:01.990443         gbtree              0.082050                 5   \n",
       "32 00:00:02.424639         gbtree              0.083456                 5   \n",
       "33 00:00:02.559088         gbtree              0.094796                 5   \n",
       "34 00:00:01.965073         gbtree              0.000124                 5   \n",
       "35 00:00:05.119984         gbtree              0.061494                 5   \n",
       "36 00:00:04.198292         gbtree              0.097806                 5   \n",
       "37 00:00:03.018850         gbtree              0.028071                 5   \n",
       "38 00:00:02.598754         gbtree              0.096970                 5   \n",
       "39 00:00:01.954005         gbtree              0.000229                 5   \n",
       "40 00:00:03.023152         gbtree              0.055206                 6   \n",
       "41 00:00:02.581857         gbtree              0.059370                 6   \n",
       "42 00:00:03.147768         gbtree              0.059341                 6   \n",
       "43 00:00:02.812695         gbtree              0.099310                 6   \n",
       "44 00:00:02.829857         gbtree              0.021143                 6   \n",
       "45 00:00:03.069629         gbtree              0.001122                 6   \n",
       "46 00:00:03.197974         gbtree              0.057202                 6   \n",
       "47 00:00:03.985983         gbtree              0.031551                 6   \n",
       "48 00:00:02.289516         gbtree              0.099490                 6   \n",
       "49 00:00:03.388943         gbtree              0.067432                 6   \n",
       "50 00:00:03.230193         gbtree              0.012390                 6   \n",
       "51 00:00:02.798858         gbtree              0.064399                 6   \n",
       "52 00:00:03.578619         gbtree              0.046122                 6   \n",
       "53 00:00:02.949105         gbtree              0.069518                 6   \n",
       "54 00:00:02.944126         gbtree              0.034641                 6   \n",
       "55 00:00:02.727117         gbtree              0.064215                 6   \n",
       "56 00:00:03.475159         gbtree              0.076685                 6   \n",
       "57 00:00:02.599450         gbtree              0.025771                 6   \n",
       "58 00:00:00.601883       gblinear              0.045607                 6   \n",
       "59 00:00:02.253105         gbtree              0.079192                 6   \n",
       "60 00:00:01.942189         gbtree              0.016402                 6   \n",
       "61 00:00:02.334568         gbtree              0.072225                 6   \n",
       "62 00:00:02.648661         gbtree              0.097615                 6   \n",
       "63 00:00:02.437473         gbtree              0.074684                 6   \n",
       "64 00:00:02.683100         gbtree              0.096250                 6   \n",
       "65 00:00:02.639477         gbtree              0.099897                 6   \n",
       "66 00:00:02.691599         gbtree              0.038248                 6   \n",
       "67 00:00:02.260883         gbtree              0.093357                 6   \n",
       "68 00:00:00.550551       gblinear              0.092810                 6   \n",
       "69 00:00:02.946931         gbtree              0.048113                 6   \n",
       "70 00:00:01.562246         gbtree              0.099740                 6   \n",
       "71 00:00:03.311333         gbtree              0.079382                 6   \n",
       "72 00:00:02.426013         gbtree              0.097133                 6   \n",
       "73 00:00:02.628693         gbtree              0.051283                 6   \n",
       "74 00:00:01.914003         gbtree              0.088609                 6   \n",
       "75 00:00:02.388131         gbtree              0.099667                 6   \n",
       "76 00:00:02.106224         gbtree              0.099157                 6   \n",
       "77 00:00:01.986488         gbtree              0.002268                 6   \n",
       "78 00:00:02.175084         gbtree              0.099740                 6   \n",
       "79 00:00:02.953702         gbtree              0.036717                 6   \n",
       "80 00:00:02.343870         gbtree              0.052538                 6   \n",
       "81 00:00:02.481799         gbtree              0.075098                 6   \n",
       "82 00:00:03.067265         gbtree              0.099660                 6   \n",
       "83 00:00:02.397984         gbtree              0.082476                 6   \n",
       "84 00:00:01.989185         gbtree              0.065576                 6   \n",
       "85 00:00:02.090517         gbtree              0.083230                 6   \n",
       "86 00:00:02.241088         gbtree              0.003917                 6   \n",
       "87 00:00:02.346316         gbtree              0.041819                 6   \n",
       "88 00:00:00.528203       gblinear              0.000752                 6   \n",
       "89 00:00:02.580219         gbtree              0.000317                 6   \n",
       "90 00:00:02.402198         gbtree              0.054917                 6   \n",
       "91 00:00:02.150136         gbtree              0.099799                 6   \n",
       "92 00:00:02.140818         gbtree              0.097468                 6   \n",
       "93 00:00:02.305651         gbtree              0.099422                 6   \n",
       "94 00:00:01.931905         gbtree              0.098493                 6   \n",
       "95 00:00:02.449829         gbtree              0.064480                 6   \n",
       "96 00:00:02.122113         gbtree              0.083145                 6   \n",
       "97 00:00:02.107631         gbtree              0.099708                 6   \n",
       "98 00:00:01.812745         gbtree              0.069213                 6   \n",
       "99 00:00:02.297513         gbtree              0.060052                 6   \n",
       "\n",
       "    params_n_estimators  params_reg_alpha  params_reg_lambda     state  \n",
       "0                    81          0.000542           0.153522  COMPLETE  \n",
       "1                    97          0.000171           0.000421  COMPLETE  \n",
       "2                    39          0.757948           0.000121  COMPLETE  \n",
       "3                    98          0.027965           0.029507  COMPLETE  \n",
       "4                    89          0.001474           0.000361  COMPLETE  \n",
       "5                    73          0.003387           0.029754  COMPLETE  \n",
       "6                    27          0.006339           0.052630  COMPLETE  \n",
       "7                    62          0.001654           0.171234  COMPLETE  \n",
       "8                    17          0.027541           0.054082  COMPLETE  \n",
       "9                    11          0.044678           0.001084  COMPLETE  \n",
       "10                   34          0.362549           0.877305  COMPLETE  \n",
       "11                   34          0.530162           0.965885  COMPLETE  \n",
       "12                   33          0.151236           0.708672  COMPLETE  \n",
       "13                   47          0.008471           0.004447  COMPLETE  \n",
       "14                   22          0.114698           0.306770  COMPLETE  \n",
       "15                   24          0.011313           0.005483  COMPLETE  \n",
       "16                   47          0.006309           0.918257  COMPLETE  \n",
       "17                   57          0.000104           0.068172  COMPLETE  \n",
       "18                   62          0.000183           0.060479  COMPLETE  \n",
       "19                   57          0.000453           0.014467  COMPLETE  \n",
       "20                   69          0.000106           0.010981  COMPLETE  \n",
       "21                   68          0.000101           0.008850  COMPLETE  \n",
       "22                   72          0.000105           0.004538  COMPLETE  \n",
       "23                   76          0.000100           0.001809  COMPLETE  \n",
       "24                   81          0.000396           0.001662  COMPLETE  \n",
       "25                   50          0.000271           0.001918  COMPLETE  \n",
       "26                   79          0.000949           0.019139  COMPLETE  \n",
       "27                   90          0.000101           0.000669  COMPLETE  \n",
       "28                   65          0.000173           0.002806  COMPLETE  \n",
       "29                   58          0.000830           0.000199  COMPLETE  \n",
       "30                   76          0.000231           0.002641  COMPLETE  \n",
       "31                   89          0.000256           0.002256  COMPLETE  \n",
       "32                   87          0.000220           0.003367  COMPLETE  \n",
       "33                   88          0.000285           0.000827  COMPLETE  \n",
       "34                   90          0.000240           0.000874  COMPLETE  \n",
       "35                  100          0.000773           0.000455  COMPLETE  \n",
       "36                   85          0.000373           0.000249  COMPLETE  \n",
       "37                   82          0.002304           0.000104  COMPLETE  \n",
       "38                   95          0.000503           0.000235  COMPLETE  \n",
       "39                   96          0.000543           0.000192  COMPLETE  \n",
       "40                   95          0.001289           0.000238  COMPLETE  \n",
       "41                   94          0.001290           0.000217  COMPLETE  \n",
       "42                   97          0.001391           0.000213  COMPLETE  \n",
       "43                  100          0.002003           0.000350  COMPLETE  \n",
       "44                  100          0.003828           0.000132  COMPLETE  \n",
       "45                   93          0.002470           0.000361  COMPLETE  \n",
       "46                   93          0.001341           0.000505  COMPLETE  \n",
       "47                  100          0.002077           0.000113  COMPLETE  \n",
       "48                   97          0.003966           0.001008  COMPLETE  \n",
       "49                   97          0.003847           0.000349  COMPLETE  \n",
       "50                   98          0.015905           0.001191  COMPLETE  \n",
       "51                   94          0.004037           0.000322  COMPLETE  \n",
       "52                   84          0.005514           0.000170  COMPLETE  \n",
       "53                  100          0.001688           0.000587  COMPLETE  \n",
       "54                  100          0.003427           0.000603  COMPLETE  \n",
       "55                   98          0.001710           0.000318  COMPLETE  \n",
       "56                   98          0.009647           0.000324  COMPLETE  \n",
       "57                  100          0.011811           0.001005  COMPLETE  \n",
       "58                   91          0.035044           0.001258  COMPLETE  \n",
       "59                   86          0.005712           0.000628  COMPLETE  \n",
       "60                   86          0.007445           0.000660  COMPLETE  \n",
       "61                   98          0.004834           0.000431  COMPLETE  \n",
       "62                   92          0.012765           0.000412  COMPLETE  \n",
       "63                   92          0.005366           0.000524  COMPLETE  \n",
       "64                  100          0.019148           0.000140  COMPLETE  \n",
       "65                  100          0.018515           0.000132  COMPLETE  \n",
       "66                  100          0.018923           0.000140  COMPLETE  \n",
       "67                   91          0.023329           0.000162  COMPLETE  \n",
       "68                   79          0.026923           0.000144  COMPLETE  \n",
       "69                   91          0.061746           0.000294  COMPLETE  \n",
       "70                   39          0.077158           0.000108  COMPLETE  \n",
       "71                   95          0.009979           0.000162  COMPLETE  \n",
       "72                   89          0.020033           0.000425  COMPLETE  \n",
       "73                   88          0.017685           0.000420  COMPLETE  \n",
       "74                   84          0.024953           0.000275  COMPLETE  \n",
       "75                   91          0.013133           0.000778  COMPLETE  \n",
       "76                   81          0.042591           0.000106  COMPLETE  \n",
       "77                   90          0.007580           0.001395  COMPLETE  \n",
       "78                   97          0.022529           0.000779  COMPLETE  \n",
       "79                   88          0.022650           0.000838  COMPLETE  \n",
       "80                   96          0.013931           0.006786  COMPLETE  \n",
       "81                   96          0.009373           0.000749  COMPLETE  \n",
       "82                   98          0.035052           0.000178  COMPLETE  \n",
       "83                   93          0.020793           0.001554  COMPLETE  \n",
       "84                   90          0.059045           0.001015  COMPLETE  \n",
       "85                   94          0.031310           0.000254  COMPLETE  \n",
       "86                  100          0.045681           0.000379  COMPLETE  \n",
       "87                   98          0.015191           0.000141  COMPLETE  \n",
       "88                   82          0.002775           0.000288  COMPLETE  \n",
       "89                   96          0.007622           0.000510  COMPLETE  \n",
       "90                   88          0.011100           0.033490  COMPLETE  \n",
       "91                   92          0.048861           0.000100  COMPLETE  \n",
       "92                   92          0.173983           0.000187  COMPLETE  \n",
       "93                   94          0.020701           0.000100  COMPLETE  \n",
       "94                   84          0.041501           0.000128  COMPLETE  \n",
       "95                   77          0.080559           0.000124  COMPLETE  \n",
       "96                   84          0.020494           0.000217  COMPLETE  \n",
       "97                   87          0.026057           0.000160  COMPLETE  \n",
       "98                   74          0.029661           0.000158  COMPLETE  \n",
       "99                   86          0.036279           0.000121  COMPLETE  "
      ]
     },
     "execution_count": 42,
     "metadata": {},
     "output_type": "execute_result"
    }
   ],
   "source": [
    "xgb_study.trials_dataframe()"
   ]
  },
  {
   "cell_type": "code",
   "execution_count": 39,
   "metadata": {},
   "outputs": [
    {
     "data": {
      "text/plain": [
       "{'booster': 'gbtree',\n",
       " 'reg_lambda': 0.0010082707987589025,\n",
       " 'reg_alpha': 0.003965881688458417,\n",
       " 'n_estimators': 97,\n",
       " 'learning_rste': 0.09948967002356002,\n",
       " 'max_depth': 6}"
      ]
     },
     "execution_count": 39,
     "metadata": {},
     "output_type": "execute_result"
    }
   ],
   "source": [
    "xgb_study.best_params"
   ]
  },
  {
   "cell_type": "code",
   "execution_count": 26,
   "metadata": {},
   "outputs": [],
   "source": [
    "bst_params = {'booster': 'gbtree',\n",
    " 'reg_lambda': 0.0010082707987589025,\n",
    " 'reg_alpha': 0.003965881688458417,\n",
    " 'n_estimators': 97,\n",
    " 'learning_rste': 0.09948967002356002,\n",
    " 'max_depth': 6}"
   ]
  },
  {
   "cell_type": "code",
   "execution_count": 27,
   "metadata": {},
   "outputs": [
    {
     "name": "stdout",
     "output_type": "stream",
     "text": [
      "[15:09:17] WARNING: src/objective/regression_obj.cu:152: reg:linear is now deprecated in favor of reg:squarederror.\n"
     ]
    },
    {
     "data": {
      "text/plain": [
       "XGBRegressor(base_score=0.5, booster='gbtree', colsample_bylevel=1,\n",
       "             colsample_bynode=1, colsample_bytree=1, gamma=0,\n",
       "             importance_type='gain', learning_rate=0.1,\n",
       "             learning_rste=0.09948967002356002, max_delta_step=0, max_depth=6,\n",
       "             min_child_weight=1, missing=None, n_estimators=97, n_jobs=1,\n",
       "             nthread=None, objective='reg:linear', random_state=0,\n",
       "             reg_alpha=0.003965881688458417, reg_lambda=0.0010082707987589025,\n",
       "             scale_pos_weight=1, seed=None, silent=None, subsample=1,\n",
       "             verbosity=1)"
      ]
     },
     "execution_count": 27,
     "metadata": {},
     "output_type": "execute_result"
    }
   ],
   "source": [
    "final_model = xgb.XGBRegressor(**bst_params)\n",
    "final_model.fit(x_train,y_train)"
   ]
  },
  {
   "cell_type": "code",
   "execution_count": 28,
   "metadata": {},
   "outputs": [
    {
     "name": "stdout",
     "output_type": "stream",
     "text": [
      "0.9977495311430596\n",
      "0.010328485940759483\n",
      "0.028328711226896664\n"
     ]
    }
   ],
   "source": [
    "print(r2_score(y_test,final_model.predict(x_test)))\n",
    "print(mean_absolute_error(y_test,final_model.predict(x_test)))\n",
    "print(sqrt(mean_squared_error(y_test,final_model.predict(x_test))))"
   ]
  },
  {
   "cell_type": "code",
   "execution_count": 29,
   "metadata": {},
   "outputs": [
    {
     "data": {
      "text/plain": [
       "array([0.68146104, 0.13884486, 0.        , 0.17969413, 0.        ],\n",
       "      dtype=float32)"
      ]
     },
     "execution_count": 29,
     "metadata": {},
     "output_type": "execute_result"
    }
   ],
   "source": [
    "final_model.feature_importances_"
   ]
  },
  {
   "cell_type": "code",
   "execution_count": 30,
   "metadata": {},
   "outputs": [
    {
     "data": {
      "text/plain": [
       "{'Unnamed: 1': 8.67614793026166,\n",
       " 'T': 1.7677292065757304,\n",
       " 'incl': 2.2878091876337776}"
      ]
     },
     "execution_count": 30,
     "metadata": {},
     "output_type": "execute_result"
    }
   ],
   "source": [
    "final_model.get_booster().get_score(importance_type='gain')"
   ]
  },
  {
   "cell_type": "code",
   "execution_count": 40,
   "metadata": {},
   "outputs": [],
   "source": [
    "gain_unnorm =  np.array([8.67614793026166,1.7677292065757304, 2.2878091876337776])"
   ]
  },
  {
   "cell_type": "code",
   "execution_count": 41,
   "metadata": {},
   "outputs": [],
   "source": [
    "gain = gain_unnorm/np.sum(gain_unnorm)"
   ]
  },
  {
   "cell_type": "code",
   "execution_count": 42,
   "metadata": {},
   "outputs": [
    {
     "data": {
      "text/plain": [
       "array([0.68146102, 0.13884486, 0.17969412])"
      ]
     },
     "execution_count": 42,
     "metadata": {},
     "output_type": "execute_result"
    }
   ],
   "source": [
    "gain"
   ]
  },
  {
   "cell_type": "code",
   "execution_count": 38,
   "metadata": {},
   "outputs": [
    {
     "data": {
      "text/plain": [
       "'gain'"
      ]
     },
     "execution_count": 38,
     "metadata": {},
     "output_type": "execute_result"
    }
   ],
   "source": [
    "final_model.importance_type"
   ]
  },
  {
   "cell_type": "code",
   "execution_count": 65,
   "metadata": {},
   "outputs": [],
   "source": [
    "columns = ['Voltage', 'T', 'inclination']"
   ]
  },
  {
   "cell_type": "code",
   "execution_count": 66,
   "metadata": {},
   "outputs": [],
   "source": [
    "gain = np.array([0.68146104, 0.13884486, 0.17969413])"
   ]
  },
  {
   "cell_type": "code",
   "execution_count": 87,
   "metadata": {},
   "outputs": [],
   "source": [
    "def _label_barh(bars, text_format, **kwargs):\n",
    "    \"\"\"\n",
    "    Attach a text label to each bar displaying its y value\n",
    "    Note: label always outside. otherwise it's too hard to control as numbers can be very long\n",
    "    \"\"\"\n",
    "    max_x_value = ax.get_xlim()[1]\n",
    "    distance = max_x_value * 0.0025\n",
    "\n",
    "    for bar in bars:\n",
    "        text = text_format.format(bar.get_width())\n",
    "\n",
    "        text_x = bar.get_width() + distance\n",
    "        text_y = bar.get_y() + bar.get_height() / 2\n",
    "\n",
    "        plt.text(text_x, text_y, text, va='center', **kwargs)\n",
    "\n",
    "def label_bars(bars, text_format, **kwargs):\n",
    "    \"\"\"\n",
    "    Attaches a label on every bar of a regular or horizontal bar chart\n",
    "    \"\"\"\n",
    "    ys = [bar.get_y() for bar in bars]\n",
    "    y_is_constant = all(y == ys[0] for y in ys)  # -> regular bar chart, since all all bars start on the same y level (0)\n",
    "\n",
    "    if y_is_constant:\n",
    "        _label_bar(bars, text_format, **kwargs)\n",
    "    else:\n",
    "        _label_barh(bars, text_format, **kwargs)"
   ]
  },
  {
   "cell_type": "code",
   "execution_count": 91,
   "metadata": {},
   "outputs": [
    {
     "data": {
      "image/png": "[encoded data removed]",
      "text/plain": [
       "<Figure size 432x288 with 1 Axes>"
      ]
     },
     "metadata": {
      "needs_background": "light"
     },
     "output_type": "display_data"
    }
   ],
   "source": [
    "horizontal_bars = plt.barh(columns, gain, height= 0.5, align=\"center\")\n",
    "plt.xlim(0,1.0)\n",
    "plt.ylabel('Features')\n",
    "plt.xlabel('Importance')\n",
    "value_format = \"{:.4}\"  # displaying values as percentage with one fractional digit\n",
    "label_bars(horizontal_bars, value_format)"
   ]
  },
  {
   "cell_type": "markdown",
   "metadata": {},
   "source": [
    "## Optimized XGB plots"
   ]
  },
  {
   "cell_type": "code",
   "execution_count": 80,
   "metadata": {},
   "outputs": [
    {
     "data": {
      "image/png": "[encoded data removed]",
      "text/plain": [
       "<Figure size 432x288 with 1 Axes>"
      ]
     },
     "metadata": {
      "needs_background": "light"
     },
     "output_type": "display_data"
    }
   ],
   "source": [
    "plt.plot(df_base['Unnamed: 1'].values,np.log10(df_base['XY'].values),'r',label = 'Experimental')\n",
    "plt.plot(df_base['Unnamed: 1'].values,final_model.predict(df_base.drop(['XY'],axis=1)),'b',label='Predicted')\n",
    "plt.legend()\n",
    "#plt.title('Base')\n",
    "plt.ylabel('Log(I)    (in A)')\n",
    "plt.xlabel('Voltage    (in V)')\n",
    "plt.savefig('./Plots/PD/pd_xgb_ab.png',dpi = 1200,bbox_inches='tight')\n",
    "plt.show()"
   ]
  },
  {
   "cell_type": "code",
   "execution_count": 81,
   "metadata": {},
   "outputs": [
    {
     "data": {
      "image/png": "[encoded data removed]",
      "text/plain": [
       "<Figure size 432x288 with 1 Axes>"
      ]
     },
     "metadata": {
      "needs_background": "light"
     },
     "output_type": "display_data"
    }
   ],
   "source": [
    "plt.plot(df_ht['Unnamed: 1'].values,np.log10(df_ht['XY'].values),'r',label = 'Experimental')\n",
    "plt.plot(df_ht['Unnamed: 1'].values,final_model.predict(df_ht.drop(['XY'],axis=1)),'b',label='Predicted')\n",
    "plt.legend()\n",
    "#plt.title('Base')\n",
    "plt.ylabel('Log(I)    (in A)')\n",
    "plt.xlabel('Voltage    (in V)')\n",
    "plt.savefig('./Plots/PD/pd_xgb_ht.png',dpi = 1200,bbox_inches='tight')\n",
    "plt.show()"
   ]
  },
  {
   "cell_type": "code",
   "execution_count": 82,
   "metadata": {},
   "outputs": [
    {
     "data": {
      "image/png": "[encoded data removed]",
      "text/plain": [
       "<Figure size 432x288 with 1 Axes>"
      ]
     },
     "metadata": {
      "needs_background": "light"
     },
     "output_type": "display_data"
    }
   ],
   "source": [
    "plt.plot(df_sp['Unnamed: 1'].values,np.log10(df_sp['XY'].values),'r',label = 'Experimental')\n",
    "plt.plot(df_sp['Unnamed: 1'].values,final_model.predict(df_sp.drop(['XY'],axis=1)),'b',label='Predicted')\n",
    "plt.legend()\n",
    "#plt.title('Base')\n",
    "plt.ylabel('Log(I)    (in A)')\n",
    "plt.xlabel('Voltage    (in V)')\n",
    "plt.savefig('./Plots/PD/pd_xgb_sp.png',dpi = 1200,bbox_inches='tight')\n",
    "plt.show()"
   ]
  },
  {
   "cell_type": "code",
   "execution_count": 83,
   "metadata": {},
   "outputs": [
    {
     "data": {
      "image/png": "[encoded data removed]",
      "text/plain": [
       "<Figure size 432x288 with 1 Axes>"
      ]
     },
     "metadata": {
      "needs_background": "light"
     },
     "output_type": "display_data"
    }
   ],
   "source": [
    "plt.plot(df_htsp['Unnamed: 1'].values,np.log10(df_htsp['XY'].values),'r',label = 'Experimental')\n",
    "plt.plot(df_htsp['Unnamed: 1'].values,final_model.predict(df_htsp.drop(['XY'],axis=1)),'b',label='Predicted')\n",
    "plt.legend()\n",
    "#plt.title('Base')\n",
    "plt.ylabel('Log(I)    (in A)')\n",
    "plt.xlabel('Voltage    (in V)')\n",
    "plt.savefig('./Plots/PD/pd_xgb_htsp.png',dpi = 1200,bbox_inches='tight')\n",
    "plt.show()"
   ]
  }
 ],
 "metadata": {
  "kernelspec": {
   "display_name": "Python 3",
   "language": "python",
   "name": "python3"
  },
  "language_info": {
   "codemirror_mode": {
    "name": "ipython",
    "version": 3
   },
   "file_extension": ".py",
   "mimetype": "text/x-python",
   "name": "python",
   "nbconvert_exporter": "python",
   "pygments_lexer": "ipython3",
   "version": "3.7.6"
  }
 },
 "nbformat": 4,
 "nbformat_minor": 4
}
